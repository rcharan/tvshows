{
 "cells": [
  {
   "cell_type": "markdown",
   "metadata": {},
   "source": [
    "# Analysis of TV Show Data"
   ]
  },
  {
   "cell_type": "markdown",
   "metadata": {},
   "source": [
    "## Setup"
   ]
  },
  {
   "cell_type": "code",
   "execution_count": 1,
   "metadata": {},
   "outputs": [],
   "source": [
    "%load_ext autoreload\n",
    "%autoreload 1"
   ]
  },
  {
   "cell_type": "code",
   "execution_count": 2,
   "metadata": {},
   "outputs": [],
   "source": [
    "import pandas as pd\n",
    "import numpy as np\n",
    "import matplotlib.pyplot as plt\n",
    "import seaborn as sns\n",
    "import statsmodels.formula.api as sm"
   ]
  },
  {
   "cell_type": "code",
   "execution_count": 3,
   "metadata": {},
   "outputs": [
    {
     "name": "stdout",
     "output_type": "stream",
     "text": [
      "# packages in environment at /Users/rcharan/anaconda3/envs/yelpapi:\r\n",
      "#\r\n",
      "# Name                    Version                   Build  Channel\r\n",
      "ipython                   7.9.0            py37h5ca1d4c_0    conda-forge\r\n",
      "matplotlib                3.1.1                    py37_1    conda-forge\r\n",
      "matplotlib-base           3.1.1            py37h3a684a6_1    conda-forge\r\n",
      "mysql-connector-python    8.0.17           py37h7d2c6da_0    conda-forge\r\n",
      "pandas                    0.25.2           py37h4f17bb1_0    conda-forge\r\n",
      "python                    3.7.3                h93065d6_1    conda-forge\r\n",
      "scipy                     1.3.1            py37h7e0e109_2    conda-forge\r\n",
      "seaborn                   0.9.0                      py_1    conda-forge\r\n"
     ]
    }
   ],
   "source": [
    "!conda list '(matplotlib|seaborn|python\\Z|scipy|pandas)'"
   ]
  },
  {
   "cell_type": "markdown",
   "metadata": {},
   "source": [
    "```python\n",
    "# Name                    Version                   Build  Channel\n",
    "ipython                   7.9.0            py37h5ca1d4c_0    conda-forge\n",
    "matplotlib                3.1.1                    py37_1    conda-forge\n",
    "matplotlib-base           3.1.1            py37h3a684a6_1    conda-forge\n",
    "mysql-connector-python    8.0.17           py37h7d2c6da_0    conda-forge\n",
    "pandas                    0.25.2           py37h4f17bb1_0    conda-forge\n",
    "python                    3.7.3                h93065d6_1    conda-forge\n",
    "scipy                     1.3.1            py37h7e0e109_2    conda-forge\n",
    "seaborn                   0.9.0                      py_1    conda-forge\n",
    "```"
   ]
  },
  {
   "cell_type": "code",
   "execution_count": 4,
   "metadata": {},
   "outputs": [],
   "source": [
    "%matplotlib inline"
   ]
  },
  {
   "cell_type": "code",
   "execution_count": 5,
   "metadata": {},
   "outputs": [],
   "source": [
    "pd.set_option('display.max_columns', 100)\n",
    "\n",
    "sns.set_context('talk')\n",
    "sns.set_style('darkgrid', {'patch.edgecolor' : 'none', 'patch.force_edgecolor' : False})"
   ]
  },
  {
   "cell_type": "markdown",
   "metadata": {},
   "source": [
    "## Import Data"
   ]
  },
  {
   "cell_type": "markdown",
   "metadata": {},
   "source": [
    "Produces Tables:\n",
    "  - streaming (RT data for each streaming show)\n",
    "  - nielsen   (Nielsen and RT data for each *episode* of a corded TV show)\n",
    "  - avged     (Nielsen and RT data for each corded TV show)\n",
    "  - together  (streaming and avged concatenated)"
   ]
  },
  {
   "cell_type": "code",
   "execution_count": 6,
   "metadata": {},
   "outputs": [],
   "source": [
    "from db import *\n",
    "nielsen   = query('SELECT * FROM nielsen')\n",
    "streaming = query('SELECT * FROM streaming')"
   ]
  },
  {
   "cell_type": "code",
   "execution_count": 7,
   "metadata": {},
   "outputs": [],
   "source": [
    "avged = \\\n",
    "nielsen.groupby('rt_id').agg({\n",
    "     'rt_id'               : 'first'\n",
    "    ,'title'               : 'first'\n",
    "    ,'critic_rating'       : 'first'\n",
    "    ,'audience_rating'     : 'first'\n",
    "    ,'network'             : 'first'\n",
    "    ,'genre'               : 'first'\n",
    "    ,'executive_producers' : 'first'\n",
    "    ,'demo_rating'         : 'mean'\n",
    "})"
   ]
  },
  {
   "cell_type": "code",
   "execution_count": 8,
   "metadata": {},
   "outputs": [],
   "source": [
    "keep_fields = ['rt_id', 'title', 'critic_rating', 'audience_rating', 'genre', 'network', 'executive_producers']\n",
    "together = pd.concat([avged[keep_fields], streaming[keep_fields]], axis = 0)\n",
    "\n",
    "grouper = lambda n : n if n in ['Netflix', 'Amazon'] else 'Cord TV'\n",
    "\n",
    "together['network_grouped'] = together.network.map(grouper)"
   ]
  },
  {
   "cell_type": "markdown",
   "metadata": {},
   "source": [
    "# Analysis"
   ]
  },
  {
   "cell_type": "markdown",
   "metadata": {},
   "source": [
    "# Slide 1 - Money plot"
   ]
  },
  {
   "cell_type": "code",
   "execution_count": 9,
   "metadata": {},
   "outputs": [],
   "source": [
    "temp_df = avged[['critic_rating', 'audience_rating', 'demo_rating']]\n",
    "temp_df = temp_df.reset_index().rename({'rt_id'           : 'show',\n",
    "                                        'critic_rating'   : 'rt_critic',\n",
    "                                        'audience_rating' : 'rt_audience', 'demo_rating' : 'nielsen'},\n",
    "                                       axis = 'columns')\n",
    "temp_df = pd.wide_to_long(temp_df, 'rt', i = 'show', j = 'rating_type', sep = '_', suffix = '.*')\n",
    "temp_df = temp_df.reset_index()"
   ]
  },
  {
   "cell_type": "code",
   "execution_count": 10,
   "metadata": {},
   "outputs": [
    {
     "data": {
      "image/png": "[encoded data removed]",
      "text/plain": [
       "<Figure size 486.775x360 with 1 Axes>"
      ]
     },
     "metadata": {},
     "output_type": "display_data"
    }
   ],
   "source": [
    "# fig, ax = plt.subplots()\n",
    "g = sns.lmplot(x = 'rt', y = 'nielsen', hue = 'rating_type', \n",
    "           data = temp_df,\n",
    "           palette = 'muted',\n",
    "           scatter_kws={\"s\": 10, \"alpha\": 1})\n",
    "g.savefig('critical_reception.svg')"
   ]
  },
  {
   "cell_type": "code",
   "execution_count": 11,
   "metadata": {},
   "outputs": [
    {
     "data": {
      "text/html": [
       "<table class=\"simpletable\">\n",
       "<caption>OLS Regression Results</caption>\n",
       "<tr>\n",
       "  <th>Dep. Variable:</th>       <td>demo_rating</td>   <th>  R-squared:         </th> <td>   0.003</td>\n",
       "</tr>\n",
       "<tr>\n",
       "  <th>Model:</th>                   <td>OLS</td>       <th>  Adj. R-squared:    </th> <td>  -0.002</td>\n",
       "</tr>\n",
       "<tr>\n",
       "  <th>Method:</th>             <td>Least Squares</td>  <th>  F-statistic:       </th> <td>  0.5875</td>\n",
       "</tr>\n",
       "<tr>\n",
       "  <th>Date:</th>             <td>Fri, 01 Nov 2019</td> <th>  Prob (F-statistic):</th>  <td> 0.444</td> \n",
       "</tr>\n",
       "<tr>\n",
       "  <th>Time:</th>                 <td>10:21:22</td>     <th>  Log-Likelihood:    </th> <td> -103.15</td>\n",
       "</tr>\n",
       "<tr>\n",
       "  <th>No. Observations:</th>      <td>   171</td>      <th>  AIC:               </th> <td>   210.3</td>\n",
       "</tr>\n",
       "<tr>\n",
       "  <th>Df Residuals:</th>          <td>   169</td>      <th>  BIC:               </th> <td>   216.6</td>\n",
       "</tr>\n",
       "<tr>\n",
       "  <th>Df Model:</th>              <td>     1</td>      <th>                     </th>     <td> </td>   \n",
       "</tr>\n",
       "<tr>\n",
       "  <th>Covariance Type:</th>      <td>nonrobust</td>    <th>                     </th>     <td> </td>   \n",
       "</tr>\n",
       "</table>\n",
       "<table class=\"simpletable\">\n",
       "<tr>\n",
       "        <td></td>           <th>coef</th>     <th>std err</th>      <th>t</th>      <th>P>|t|</th>  <th>[0.025</th>    <th>0.975]</th>  \n",
       "</tr>\n",
       "<tr>\n",
       "  <th>Intercept</th>     <td>    0.5912</td> <td>    0.157</td> <td>    3.770</td> <td> 0.000</td> <td>    0.282</td> <td>    0.901</td>\n",
       "</tr>\n",
       "<tr>\n",
       "  <th>critic_rating</th> <td>   -0.0015</td> <td>    0.002</td> <td>   -0.766</td> <td> 0.444</td> <td>   -0.005</td> <td>    0.002</td>\n",
       "</tr>\n",
       "</table>\n",
       "<table class=\"simpletable\">\n",
       "<tr>\n",
       "  <th>Omnibus:</th>       <td>197.703</td> <th>  Durbin-Watson:     </th> <td>   1.738</td>\n",
       "</tr>\n",
       "<tr>\n",
       "  <th>Prob(Omnibus):</th> <td> 0.000</td>  <th>  Jarque-Bera (JB):  </th> <td>5232.464</td>\n",
       "</tr>\n",
       "<tr>\n",
       "  <th>Skew:</th>          <td> 4.659</td>  <th>  Prob(JB):          </th> <td>    0.00</td>\n",
       "</tr>\n",
       "<tr>\n",
       "  <th>Kurtosis:</th>      <td>28.447</td>  <th>  Cond. No.          </th> <td>    379.</td>\n",
       "</tr>\n",
       "</table><br/><br/>Warnings:<br/>[1] Standard Errors assume that the covariance matrix of the errors is correctly specified."
      ],
      "text/plain": [
       "<class 'statsmodels.iolib.summary.Summary'>\n",
       "\"\"\"\n",
       "                            OLS Regression Results                            \n",
       "==============================================================================\n",
       "Dep. Variable:            demo_rating   R-squared:                       0.003\n",
       "Model:                            OLS   Adj. R-squared:                 -0.002\n",
       "Method:                 Least Squares   F-statistic:                    0.5875\n",
       "Date:                Fri, 01 Nov 2019   Prob (F-statistic):              0.444\n",
       "Time:                        10:21:22   Log-Likelihood:                -103.15\n",
       "No. Observations:                 171   AIC:                             210.3\n",
       "Df Residuals:                     169   BIC:                             216.6\n",
       "Df Model:                           1                                         \n",
       "Covariance Type:            nonrobust                                         \n",
       "=================================================================================\n",
       "                    coef    std err          t      P>|t|      [0.025      0.975]\n",
       "---------------------------------------------------------------------------------\n",
       "Intercept         0.5912      0.157      3.770      0.000       0.282       0.901\n",
       "critic_rating    -0.0015      0.002     -0.766      0.444      -0.005       0.002\n",
       "==============================================================================\n",
       "Omnibus:                      197.703   Durbin-Watson:                   1.738\n",
       "Prob(Omnibus):                  0.000   Jarque-Bera (JB):             5232.464\n",
       "Skew:                           4.659   Prob(JB):                         0.00\n",
       "Kurtosis:                      28.447   Cond. No.                         379.\n",
       "==============================================================================\n",
       "\n",
       "Warnings:\n",
       "[1] Standard Errors assume that the covariance matrix of the errors is correctly specified.\n",
       "\"\"\""
      ]
     },
     "execution_count": 11,
     "metadata": {},
     "output_type": "execute_result"
    }
   ],
   "source": [
    "lm_critic = sm.ols(formula = 'demo_rating ~ critic_rating', data = avged).fit()\n",
    "lm_critic.summary()"
   ]
  },
  {
   "cell_type": "code",
   "execution_count": 12,
   "metadata": {},
   "outputs": [
    {
     "data": {
      "text/html": [
       "<table class=\"simpletable\">\n",
       "<caption>OLS Regression Results</caption>\n",
       "<tr>\n",
       "  <th>Dep. Variable:</th>       <td>demo_rating</td>   <th>  R-squared:         </th> <td>   0.033</td>\n",
       "</tr>\n",
       "<tr>\n",
       "  <th>Model:</th>                   <td>OLS</td>       <th>  Adj. R-squared:    </th> <td>   0.031</td>\n",
       "</tr>\n",
       "<tr>\n",
       "  <th>Method:</th>             <td>Least Squares</td>  <th>  F-statistic:       </th> <td>   11.45</td>\n",
       "</tr>\n",
       "<tr>\n",
       "  <th>Date:</th>             <td>Fri, 01 Nov 2019</td> <th>  Prob (F-statistic):</th> <td>0.000800</td>\n",
       "</tr>\n",
       "<tr>\n",
       "  <th>Time:</th>                 <td>10:21:22</td>     <th>  Log-Likelihood:    </th> <td> -120.38</td>\n",
       "</tr>\n",
       "<tr>\n",
       "  <th>No. Observations:</th>      <td>   333</td>      <th>  AIC:               </th> <td>   244.8</td>\n",
       "</tr>\n",
       "<tr>\n",
       "  <th>Df Residuals:</th>          <td>   331</td>      <th>  BIC:               </th> <td>   252.4</td>\n",
       "</tr>\n",
       "<tr>\n",
       "  <th>Df Model:</th>              <td>     1</td>      <th>                     </th>     <td> </td>   \n",
       "</tr>\n",
       "<tr>\n",
       "  <th>Covariance Type:</th>      <td>nonrobust</td>    <th>                     </th>     <td> </td>   \n",
       "</tr>\n",
       "</table>\n",
       "<table class=\"simpletable\">\n",
       "<tr>\n",
       "         <td></td>            <th>coef</th>     <th>std err</th>      <th>t</th>      <th>P>|t|</th>  <th>[0.025</th>    <th>0.975]</th>  \n",
       "</tr>\n",
       "<tr>\n",
       "  <th>Intercept</th>       <td>    0.7671</td> <td>    0.100</td> <td>    7.708</td> <td> 0.000</td> <td>    0.571</td> <td>    0.963</td>\n",
       "</tr>\n",
       "<tr>\n",
       "  <th>audience_rating</th> <td>   -0.0040</td> <td>    0.001</td> <td>   -3.384</td> <td> 0.001</td> <td>   -0.006</td> <td>   -0.002</td>\n",
       "</tr>\n",
       "</table>\n",
       "<table class=\"simpletable\">\n",
       "<tr>\n",
       "  <th>Omnibus:</th>       <td>390.842</td> <th>  Durbin-Watson:     </th> <td>   1.707</td> \n",
       "</tr>\n",
       "<tr>\n",
       "  <th>Prob(Omnibus):</th> <td> 0.000</td>  <th>  Jarque-Bera (JB):  </th> <td>21292.869</td>\n",
       "</tr>\n",
       "<tr>\n",
       "  <th>Skew:</th>          <td> 5.324</td>  <th>  Prob(JB):          </th> <td>    0.00</td> \n",
       "</tr>\n",
       "<tr>\n",
       "  <th>Kurtosis:</th>      <td>40.699</td>  <th>  Cond. No.          </th> <td>    437.</td> \n",
       "</tr>\n",
       "</table><br/><br/>Warnings:<br/>[1] Standard Errors assume that the covariance matrix of the errors is correctly specified."
      ],
      "text/plain": [
       "<class 'statsmodels.iolib.summary.Summary'>\n",
       "\"\"\"\n",
       "                            OLS Regression Results                            \n",
       "==============================================================================\n",
       "Dep. Variable:            demo_rating   R-squared:                       0.033\n",
       "Model:                            OLS   Adj. R-squared:                  0.031\n",
       "Method:                 Least Squares   F-statistic:                     11.45\n",
       "Date:                Fri, 01 Nov 2019   Prob (F-statistic):           0.000800\n",
       "Time:                        10:21:22   Log-Likelihood:                -120.38\n",
       "No. Observations:                 333   AIC:                             244.8\n",
       "Df Residuals:                     331   BIC:                             252.4\n",
       "Df Model:                           1                                         \n",
       "Covariance Type:            nonrobust                                         \n",
       "===================================================================================\n",
       "                      coef    std err          t      P>|t|      [0.025      0.975]\n",
       "-----------------------------------------------------------------------------------\n",
       "Intercept           0.7671      0.100      7.708      0.000       0.571       0.963\n",
       "audience_rating    -0.0040      0.001     -3.384      0.001      -0.006      -0.002\n",
       "==============================================================================\n",
       "Omnibus:                      390.842   Durbin-Watson:                   1.707\n",
       "Prob(Omnibus):                  0.000   Jarque-Bera (JB):            21292.869\n",
       "Skew:                           5.324   Prob(JB):                         0.00\n",
       "Kurtosis:                      40.699   Cond. No.                         437.\n",
       "==============================================================================\n",
       "\n",
       "Warnings:\n",
       "[1] Standard Errors assume that the covariance matrix of the errors is correctly specified.\n",
       "\"\"\""
      ]
     },
     "execution_count": 12,
     "metadata": {},
     "output_type": "execute_result"
    }
   ],
   "source": [
    "lm_audience = sm.ols(formula = 'demo_rating ~ audience_rating', data = avged).fit()\n",
    "lm_audience.summary()"
   ]
  },
  {
   "cell_type": "code",
   "execution_count": 13,
   "metadata": {},
   "outputs": [
    {
     "data": {
      "text/html": [
       "<table class=\"simpletable\">\n",
       "<caption>OLS Regression Results</caption>\n",
       "<tr>\n",
       "  <th>Dep. Variable:</th>       <td>demo_rating</td>   <th>  R-squared:         </th> <td>   0.019</td>\n",
       "</tr>\n",
       "<tr>\n",
       "  <th>Model:</th>                   <td>OLS</td>       <th>  Adj. R-squared:    </th> <td>   0.007</td>\n",
       "</tr>\n",
       "<tr>\n",
       "  <th>Method:</th>             <td>Least Squares</td>  <th>  F-statistic:       </th> <td>   1.548</td>\n",
       "</tr>\n",
       "<tr>\n",
       "  <th>Date:</th>             <td>Fri, 01 Nov 2019</td> <th>  Prob (F-statistic):</th>  <td> 0.216</td> \n",
       "</tr>\n",
       "<tr>\n",
       "  <th>Time:</th>                 <td>10:21:22</td>     <th>  Log-Likelihood:    </th> <td> -100.66</td>\n",
       "</tr>\n",
       "<tr>\n",
       "  <th>No. Observations:</th>      <td>   165</td>      <th>  AIC:               </th> <td>   207.3</td>\n",
       "</tr>\n",
       "<tr>\n",
       "  <th>Df Residuals:</th>          <td>   162</td>      <th>  BIC:               </th> <td>   216.6</td>\n",
       "</tr>\n",
       "<tr>\n",
       "  <th>Df Model:</th>              <td>     2</td>      <th>                     </th>     <td> </td>   \n",
       "</tr>\n",
       "<tr>\n",
       "  <th>Covariance Type:</th>      <td>nonrobust</td>    <th>                     </th>     <td> </td>   \n",
       "</tr>\n",
       "</table>\n",
       "<table class=\"simpletable\">\n",
       "<tr>\n",
       "         <td></td>            <th>coef</th>     <th>std err</th>      <th>t</th>      <th>P>|t|</th>  <th>[0.025</th>    <th>0.975]</th>  \n",
       "</tr>\n",
       "<tr>\n",
       "  <th>Intercept</th>       <td>    0.9073</td> <td>    0.248</td> <td>    3.660</td> <td> 0.000</td> <td>    0.418</td> <td>    1.397</td>\n",
       "</tr>\n",
       "<tr>\n",
       "  <th>audience_rating</th> <td>   -0.0053</td> <td>    0.004</td> <td>   -1.458</td> <td> 0.147</td> <td>   -0.012</td> <td>    0.002</td>\n",
       "</tr>\n",
       "<tr>\n",
       "  <th>critic_rating</th>   <td> 1.598e-05</td> <td>    0.002</td> <td>    0.007</td> <td> 0.995</td> <td>   -0.005</td> <td>    0.005</td>\n",
       "</tr>\n",
       "</table>\n",
       "<table class=\"simpletable\">\n",
       "<tr>\n",
       "  <th>Omnibus:</th>       <td>191.723</td> <th>  Durbin-Watson:     </th> <td>   1.766</td>\n",
       "</tr>\n",
       "<tr>\n",
       "  <th>Prob(Omnibus):</th> <td> 0.000</td>  <th>  Jarque-Bera (JB):  </th> <td>5020.385</td>\n",
       "</tr>\n",
       "<tr>\n",
       "  <th>Skew:</th>          <td> 4.644</td>  <th>  Prob(JB):          </th> <td>    0.00</td>\n",
       "</tr>\n",
       "<tr>\n",
       "  <th>Kurtosis:</th>      <td>28.377</td>  <th>  Cond. No.          </th> <td>    820.</td>\n",
       "</tr>\n",
       "</table><br/><br/>Warnings:<br/>[1] Standard Errors assume that the covariance matrix of the errors is correctly specified."
      ],
      "text/plain": [
       "<class 'statsmodels.iolib.summary.Summary'>\n",
       "\"\"\"\n",
       "                            OLS Regression Results                            \n",
       "==============================================================================\n",
       "Dep. Variable:            demo_rating   R-squared:                       0.019\n",
       "Model:                            OLS   Adj. R-squared:                  0.007\n",
       "Method:                 Least Squares   F-statistic:                     1.548\n",
       "Date:                Fri, 01 Nov 2019   Prob (F-statistic):              0.216\n",
       "Time:                        10:21:22   Log-Likelihood:                -100.66\n",
       "No. Observations:                 165   AIC:                             207.3\n",
       "Df Residuals:                     162   BIC:                             216.6\n",
       "Df Model:                           2                                         \n",
       "Covariance Type:            nonrobust                                         \n",
       "===================================================================================\n",
       "                      coef    std err          t      P>|t|      [0.025      0.975]\n",
       "-----------------------------------------------------------------------------------\n",
       "Intercept           0.9073      0.248      3.660      0.000       0.418       1.397\n",
       "audience_rating    -0.0053      0.004     -1.458      0.147      -0.012       0.002\n",
       "critic_rating    1.598e-05      0.002      0.007      0.995      -0.005       0.005\n",
       "==============================================================================\n",
       "Omnibus:                      191.723   Durbin-Watson:                   1.766\n",
       "Prob(Omnibus):                  0.000   Jarque-Bera (JB):             5020.385\n",
       "Skew:                           4.644   Prob(JB):                         0.00\n",
       "Kurtosis:                      28.377   Cond. No.                         820.\n",
       "==============================================================================\n",
       "\n",
       "Warnings:\n",
       "[1] Standard Errors assume that the covariance matrix of the errors is correctly specified.\n",
       "\"\"\""
      ]
     },
     "execution_count": 13,
     "metadata": {},
     "output_type": "execute_result"
    }
   ],
   "source": [
    "lm_critic = sm.ols(formula = 'demo_rating ~ audience_rating + critic_rating', data = avged).fit()\n",
    "lm_critic.summary()"
   ]
  },
  {
   "cell_type": "markdown",
   "metadata": {},
   "source": [
    "## Slide 2 — Prepare for Seasonality\n",
    "This could either be\n",
    "1. A sign of when people watch TV\n",
    "1. A sign of when the networks are the strongest competition\n",
    "\n",
    "If the former, great. If the latter, there could be unmet demand"
   ]
  },
  {
   "cell_type": "markdown",
   "metadata": {},
   "source": [
    "RT ratings versus premiere date by network\n",
    "Demo_ratings versus month"
   ]
  },
  {
   "cell_type": "code",
   "execution_count": 14,
   "metadata": {},
   "outputs": [],
   "source": [
    "by_month = nielsen.copy()\n",
    "by_month.dropna(subset = ['date'], inplace = True)\n",
    "by_month['month'] = by_month.date.dt.month"
   ]
  },
  {
   "cell_type": "code",
   "execution_count": 15,
   "metadata": {},
   "outputs": [],
   "source": [
    "%%capture\n",
    "fig, ax = plt.subplots()\n",
    "sns.set_color_codes(\"pastel\")\n",
    "sns.barplot(x = 'month', y = 'demo_rating', data = by_month, ax = ax, color = 'b', errwidth = 2);\n",
    "ax.set_title('Average Viewership by Month')\n",
    "ax.set_xlabel('Month')\n",
    "ax.set_ylabel('Viewership\\n(Nielsen Rating 18-49)')"
   ]
  },
  {
   "cell_type": "code",
   "execution_count": 16,
   "metadata": {},
   "outputs": [
    {
     "data": {
      "image/png": "[encoded data removed]",
      "text/plain": [
       "<Figure size 432x288 with 1 Axes>"
      ]
     },
     "execution_count": 16,
     "metadata": {},
     "output_type": "execute_result"
    }
   ],
   "source": [
    "fig"
   ]
  },
  {
   "cell_type": "code",
   "execution_count": 17,
   "metadata": {},
   "outputs": [],
   "source": [
    "fig.savefig('viewership_by_month.svg')"
   ]
  },
  {
   "cell_type": "code",
   "execution_count": 18,
   "metadata": {},
   "outputs": [],
   "source": [
    "vals =  by_month.groupby(['month'])['demo_rating'].mean()"
   ]
  },
  {
   "cell_type": "code",
   "execution_count": 19,
   "metadata": {},
   "outputs": [
    {
     "data": {
      "text/plain": [
       "[0.45, 0.46, 0.48, 0.46, 0.44, 0.42, 0.4, 0.41, 0.4, 0.42, 0.44, 0.42]"
      ]
     },
     "execution_count": 19,
     "metadata": {},
     "output_type": "execute_result"
    }
   ],
   "source": [
    "vals.round(2).tolist()"
   ]
  },
  {
   "cell_type": "markdown",
   "metadata": {},
   "source": [
    "# Slide 2"
   ]
  },
  {
   "cell_type": "code",
   "execution_count": 20,
   "metadata": {},
   "outputs": [],
   "source": [
    "%%capture\n",
    "temp_df = together[['rt_id', 'network_grouped', 'audience_rating', 'critic_rating']].rename({'network_grouped' : 'network'}, axis = 'columns').set_index(['rt_id', 'network']).stack()\n",
    "temp_df.index.set_names('rating_type', 2, inplace = True)\n",
    "temp_df = temp_df.rename('rating').reset_index()\n",
    "fig, ax = plt.subplots()\n",
    "sns.barplot(x = 'network', y = 'rating', hue = 'rating_type', data = temp_df, ax = ax)\n",
    "ax.set_title('Audience and Critic Scores by Service')\n",
    "ax.set_xlabel('Service')\n",
    "ax.set_ylabel('Rotten Tomatoes\\nScore (0-100)')"
   ]
  },
  {
   "cell_type": "code",
   "execution_count": 21,
   "metadata": {},
   "outputs": [
    {
     "data": {
      "image/png": "[encoded data removed]",
      "text/plain": [
       "<Figure size 432x288 with 1 Axes>"
      ]
     },
     "execution_count": 21,
     "metadata": {},
     "output_type": "execute_result"
    }
   ],
   "source": [
    "fig"
   ]
  },
  {
   "cell_type": "code",
   "execution_count": 22,
   "metadata": {},
   "outputs": [],
   "source": [
    "fig.savefig('rt_score_by_service.svg')"
   ]
  },
  {
   "cell_type": "code",
   "execution_count": 23,
   "metadata": {},
   "outputs": [
    {
     "data": {
      "text/html": [
       "<div>\n",
       "<style scoped>\n",
       "    .dataframe tbody tr th:only-of-type {\n",
       "        vertical-align: middle;\n",
       "    }\n",
       "\n",
       "    .dataframe tbody tr th {\n",
       "        vertical-align: top;\n",
       "    }\n",
       "\n",
       "    .dataframe thead th {\n",
       "        text-align: right;\n",
       "    }\n",
       "</style>\n",
       "<table border=\"1\" class=\"dataframe\">\n",
       "  <thead>\n",
       "    <tr style=\"text-align: right;\">\n",
       "      <th></th>\n",
       "      <th></th>\n",
       "      <th>rating</th>\n",
       "    </tr>\n",
       "    <tr>\n",
       "      <th>network</th>\n",
       "      <th>rating_type</th>\n",
       "      <th></th>\n",
       "    </tr>\n",
       "  </thead>\n",
       "  <tbody>\n",
       "    <tr>\n",
       "      <th rowspan=\"2\" valign=\"top\">Amazon</th>\n",
       "      <th>audience_rating</th>\n",
       "      <td>87.0</td>\n",
       "    </tr>\n",
       "    <tr>\n",
       "      <th>critic_rating</th>\n",
       "      <td>74.0</td>\n",
       "    </tr>\n",
       "    <tr>\n",
       "      <th rowspan=\"2\" valign=\"top\">Cord TV</th>\n",
       "      <th>audience_rating</th>\n",
       "      <td>82.0</td>\n",
       "    </tr>\n",
       "    <tr>\n",
       "      <th>critic_rating</th>\n",
       "      <td>80.0</td>\n",
       "    </tr>\n",
       "    <tr>\n",
       "      <th rowspan=\"2\" valign=\"top\">Netflix</th>\n",
       "      <th>audience_rating</th>\n",
       "      <td>80.0</td>\n",
       "    </tr>\n",
       "    <tr>\n",
       "      <th>critic_rating</th>\n",
       "      <td>79.0</td>\n",
       "    </tr>\n",
       "  </tbody>\n",
       "</table>\n",
       "</div>"
      ],
      "text/plain": [
       "                         rating\n",
       "network rating_type            \n",
       "Amazon  audience_rating    87.0\n",
       "        critic_rating      74.0\n",
       "Cord TV audience_rating    82.0\n",
       "        critic_rating      80.0\n",
       "Netflix audience_rating    80.0\n",
       "        critic_rating      79.0"
      ]
     },
     "execution_count": 23,
     "metadata": {},
     "output_type": "execute_result"
    }
   ],
   "source": [
    "temp_df.groupby(['network', 'rating_type']).mean().round(0)"
   ]
  },
  {
   "cell_type": "code",
   "execution_count": 24,
   "metadata": {},
   "outputs": [
    {
     "data": {
      "text/plain": [
       "[87.0, 74.0, 82.0, 80.0, 80.0, 79.0]"
      ]
     },
     "execution_count": 24,
     "metadata": {},
     "output_type": "execute_result"
    }
   ],
   "source": [
    "temp_df.groupby(['network', 'rating_type']).mean().round(0)['rating'].tolist()"
   ]
  },
  {
   "cell_type": "code",
   "execution_count": null,
   "metadata": {},
   "outputs": [],
   "source": []
  }
 ],
 "metadata": {
  "kernelspec": {
   "display_name": "Python [conda env:yelpapi]",
   "language": "python",
   "name": "conda-env-yelpapi-py"
  },
  "language_info": {
   "codemirror_mode": {
    "name": "ipython",
    "version": 3
   },
   "file_extension": ".py",
   "mimetype": "text/x-python",
   "name": "python",
   "nbconvert_exporter": "python",
   "pygments_lexer": "ipython3",
   "version": "3.7.3"
  }
 },
 "nbformat": 4,
 "nbformat_minor": 2
}
