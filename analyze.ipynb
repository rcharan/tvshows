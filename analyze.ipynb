{
 "cells": [
  {
   "cell_type": "markdown",
   "metadata": {},
   "source": [
    "# Analysis of TV Show Data"
   ]
  },
  {
   "cell_type": "markdown",
   "metadata": {},
   "source": [
    "## Setup"
   ]
  },
  {
   "cell_type": "code",
   "execution_count": 1,
   "metadata": {},
   "outputs": [],
   "source": [
    "%load_ext autoreload\n",
    "%autoreload 1"
   ]
  },
  {
   "cell_type": "code",
   "execution_count": 2,
   "metadata": {},
   "outputs": [],
   "source": [
    "import pandas as pd\n",
    "import numpy as np\n",
    "import matplotlib.pyplot as plt\n",
    "import seaborn as sns"
   ]
  },
  {
   "cell_type": "code",
   "execution_count": 3,
   "metadata": {},
   "outputs": [
    {
     "name": "stdout",
     "output_type": "stream",
     "text": [
      "# packages in environment at /Users/rcharan/anaconda3/envs/yelpapi:\r\n",
      "#\r\n",
      "# Name                    Version                   Build  Channel\r\n",
      "ipython                   7.9.0            py37h5ca1d4c_0    conda-forge\r\n",
      "matplotlib                3.1.1                    py37_1    conda-forge\r\n",
      "matplotlib-base           3.1.1            py37h3a684a6_1    conda-forge\r\n",
      "mysql-connector-python    8.0.17           py37h7d2c6da_0    conda-forge\r\n",
      "pandas                    0.25.2           py37h4f17bb1_0    conda-forge\r\n",
      "python                    3.7.3                h93065d6_1    conda-forge\r\n",
      "scipy                     1.3.1            py37h7e0e109_2    conda-forge\r\n",
      "seaborn                   0.9.0                      py_1    conda-forge\r\n"
     ]
    }
   ],
   "source": [
    "!conda list '(matplotlib|seaborn|python\\Z|scipy|pandas)'"
   ]
  },
  {
   "cell_type": "markdown",
   "metadata": {},
   "source": [
    "```python\n",
    "# Name                    Version                   Build  Channel\n",
    "ipython                   7.9.0            py37h5ca1d4c_0    conda-forge\n",
    "matplotlib                3.1.1                    py37_1    conda-forge\n",
    "matplotlib-base           3.1.1            py37h3a684a6_1    conda-forge\n",
    "mysql-connector-python    8.0.17           py37h7d2c6da_0    conda-forge\n",
    "pandas                    0.25.2           py37h4f17bb1_0    conda-forge\n",
    "python                    3.7.3                h93065d6_1    conda-forge\n",
    "scipy                     1.3.1            py37h7e0e109_2    conda-forge\n",
    "seaborn                   0.9.0                      py_1    conda-forge\n",
    "```"
   ]
  },
  {
   "cell_type": "code",
   "execution_count": 4,
   "metadata": {},
   "outputs": [],
   "source": [
    "%matplotlib inline"
   ]
  },
  {
   "cell_type": "code",
   "execution_count": 5,
   "metadata": {},
   "outputs": [],
   "source": [
    "# Import Data\n",
    "from db import *\n",
    "nielsen   = query('SELECT * FROM nielsen')\n",
    "streaming = query('SELECT * FROM streaming')"
   ]
  },
  {
   "cell_type": "code",
   "execution_count": 6,
   "metadata": {},
   "outputs": [],
   "source": [
    "pd.set_option('display.max_columns', 100)\n",
    "\n",
    "sns.set_context('talk')\n",
    "sns.set_style('darkgrid', {'patch.edgecolor' : 'none', 'patch.force_edgecolor' : False})"
   ]
  },
  {
   "cell_type": "code",
   "execution_count": 7,
   "metadata": {},
   "outputs": [
    {
     "data": {
      "text/html": [
       "<div>\n",
       "<style scoped>\n",
       "    .dataframe tbody tr th:only-of-type {\n",
       "        vertical-align: middle;\n",
       "    }\n",
       "\n",
       "    .dataframe tbody tr th {\n",
       "        vertical-align: top;\n",
       "    }\n",
       "\n",
       "    .dataframe thead th {\n",
       "        text-align: right;\n",
       "    }\n",
       "</style>\n",
       "<table border=\"1\" class=\"dataframe\">\n",
       "  <thead>\n",
       "    <tr style=\"text-align: right;\">\n",
       "      <th></th>\n",
       "      <th>rt_id</th>\n",
       "      <th>title</th>\n",
       "      <th>critic_rating</th>\n",
       "      <th>audience_rating</th>\n",
       "      <th>network</th>\n",
       "      <th>genre</th>\n",
       "      <th>executive_producers</th>\n",
       "      <th>demo_rating</th>\n",
       "      <th>date</th>\n",
       "    </tr>\n",
       "  </thead>\n",
       "  <tbody>\n",
       "    <tr>\n",
       "      <th>0</th>\n",
       "      <td>live_pd</td>\n",
       "      <td>Live PD</td>\n",
       "      <td>NaN</td>\n",
       "      <td>75.0</td>\n",
       "      <td>A&amp;E</td>\n",
       "      <td>Special Interest</td>\n",
       "      <td>['Dan Cesareo', 'David Doss', 'George McTeague...</td>\n",
       "      <td>0.4</td>\n",
       "      <td>2019-10-25</td>\n",
       "    </tr>\n",
       "    <tr>\n",
       "      <th>1</th>\n",
       "      <td>live_pd</td>\n",
       "      <td>Live PD</td>\n",
       "      <td>NaN</td>\n",
       "      <td>75.0</td>\n",
       "      <td>A&amp;E</td>\n",
       "      <td>Special Interest</td>\n",
       "      <td>['Dan Cesareo', 'David Doss', 'George McTeague...</td>\n",
       "      <td>0.5</td>\n",
       "      <td>2019-10-18</td>\n",
       "    </tr>\n",
       "    <tr>\n",
       "      <th>2</th>\n",
       "      <td>live_pd</td>\n",
       "      <td>Live PD</td>\n",
       "      <td>NaN</td>\n",
       "      <td>75.0</td>\n",
       "      <td>A&amp;E</td>\n",
       "      <td>Special Interest</td>\n",
       "      <td>['Dan Cesareo', 'David Doss', 'George McTeague...</td>\n",
       "      <td>0.5</td>\n",
       "      <td>2019-10-11</td>\n",
       "    </tr>\n",
       "    <tr>\n",
       "      <th>3</th>\n",
       "      <td>live_pd</td>\n",
       "      <td>Live PD</td>\n",
       "      <td>NaN</td>\n",
       "      <td>75.0</td>\n",
       "      <td>A&amp;E</td>\n",
       "      <td>Special Interest</td>\n",
       "      <td>['Dan Cesareo', 'David Doss', 'George McTeague...</td>\n",
       "      <td>0.5</td>\n",
       "      <td>2019-10-04</td>\n",
       "    </tr>\n",
       "    <tr>\n",
       "      <th>4</th>\n",
       "      <td>live_pd</td>\n",
       "      <td>Live PD</td>\n",
       "      <td>NaN</td>\n",
       "      <td>75.0</td>\n",
       "      <td>A&amp;E</td>\n",
       "      <td>Special Interest</td>\n",
       "      <td>['Dan Cesareo', 'David Doss', 'George McTeague...</td>\n",
       "      <td>0.5</td>\n",
       "      <td>2019-09-27</td>\n",
       "    </tr>\n",
       "  </tbody>\n",
       "</table>\n",
       "</div>"
      ],
      "text/plain": [
       "     rt_id    title  critic_rating  audience_rating network             genre  \\\n",
       "0  live_pd  Live PD            NaN             75.0     A&E  Special Interest   \n",
       "1  live_pd  Live PD            NaN             75.0     A&E  Special Interest   \n",
       "2  live_pd  Live PD            NaN             75.0     A&E  Special Interest   \n",
       "3  live_pd  Live PD            NaN             75.0     A&E  Special Interest   \n",
       "4  live_pd  Live PD            NaN             75.0     A&E  Special Interest   \n",
       "\n",
       "                                 executive_producers  demo_rating       date  \n",
       "0  ['Dan Cesareo', 'David Doss', 'George McTeague...          0.4 2019-10-25  \n",
       "1  ['Dan Cesareo', 'David Doss', 'George McTeague...          0.5 2019-10-18  \n",
       "2  ['Dan Cesareo', 'David Doss', 'George McTeague...          0.5 2019-10-11  \n",
       "3  ['Dan Cesareo', 'David Doss', 'George McTeague...          0.5 2019-10-04  \n",
       "4  ['Dan Cesareo', 'David Doss', 'George McTeague...          0.5 2019-09-27  "
      ]
     },
     "execution_count": 7,
     "metadata": {},
     "output_type": "execute_result"
    }
   ],
   "source": [
    "nielsen.head()"
   ]
  },
  {
   "cell_type": "code",
   "execution_count": 8,
   "metadata": {},
   "outputs": [
    {
     "data": {
      "text/html": [
       "<div>\n",
       "<style scoped>\n",
       "    .dataframe tbody tr th:only-of-type {\n",
       "        vertical-align: middle;\n",
       "    }\n",
       "\n",
       "    .dataframe tbody tr th {\n",
       "        vertical-align: top;\n",
       "    }\n",
       "\n",
       "    .dataframe thead th {\n",
       "        text-align: right;\n",
       "    }\n",
       "</style>\n",
       "<table border=\"1\" class=\"dataframe\">\n",
       "  <thead>\n",
       "    <tr style=\"text-align: right;\">\n",
       "      <th></th>\n",
       "      <th>rt_id</th>\n",
       "      <th>title</th>\n",
       "      <th>critic_rating</th>\n",
       "      <th>audience_rating</th>\n",
       "      <th>network</th>\n",
       "      <th>genre</th>\n",
       "      <th>executive_producers</th>\n",
       "      <th>premiere_date</th>\n",
       "    </tr>\n",
       "  </thead>\n",
       "  <tbody>\n",
       "    <tr>\n",
       "      <th>0</th>\n",
       "      <td>bloodline</td>\n",
       "      <td>Bloodline</td>\n",
       "      <td>62.0</td>\n",
       "      <td>76.0</td>\n",
       "      <td>Netflix</td>\n",
       "      <td>Drama</td>\n",
       "      <td>['Todd A. Kessler', 'Daniel Zelman', 'Glenn Ke...</td>\n",
       "      <td>2015-03-20</td>\n",
       "    </tr>\n",
       "    <tr>\n",
       "      <th>1</th>\n",
       "      <td>the_ranch</td>\n",
       "      <td>The Ranch</td>\n",
       "      <td>63.0</td>\n",
       "      <td>73.0</td>\n",
       "      <td>Netflix</td>\n",
       "      <td>Comedy</td>\n",
       "      <td>['Don Reo', 'Jim Patterson']</td>\n",
       "      <td>2016-04-01</td>\n",
       "    </tr>\n",
       "    <tr>\n",
       "      <th>2</th>\n",
       "      <td>good_girls_revolt</td>\n",
       "      <td>Good Girls Revolt</td>\n",
       "      <td>73.0</td>\n",
       "      <td>97.0</td>\n",
       "      <td>Amazon</td>\n",
       "      <td>Drama</td>\n",
       "      <td>['Dana Calvo', 'Lynda Obst', 'Darlene Hunt', '...</td>\n",
       "      <td>2016-10-28</td>\n",
       "    </tr>\n",
       "    <tr>\n",
       "      <th>3</th>\n",
       "      <td>the_mind_explained</td>\n",
       "      <td>The Mind, Explained</td>\n",
       "      <td>NaN</td>\n",
       "      <td>100.0</td>\n",
       "      <td>Netflix</td>\n",
       "      <td>Documentary</td>\n",
       "      <td>None</td>\n",
       "      <td>2019-09-12</td>\n",
       "    </tr>\n",
       "    <tr>\n",
       "      <th>4</th>\n",
       "      <td>bonding</td>\n",
       "      <td>Bonding</td>\n",
       "      <td>64.0</td>\n",
       "      <td>78.0</td>\n",
       "      <td>Netflix</td>\n",
       "      <td>Comedy</td>\n",
       "      <td>['Rightor Doyle', 'Jacob Perlin', 'Nina Sorian...</td>\n",
       "      <td>2019-04-24</td>\n",
       "    </tr>\n",
       "  </tbody>\n",
       "</table>\n",
       "</div>"
      ],
      "text/plain": [
       "                rt_id                title  critic_rating  audience_rating  \\\n",
       "0           bloodline            Bloodline           62.0             76.0   \n",
       "1           the_ranch            The Ranch           63.0             73.0   \n",
       "2   good_girls_revolt    Good Girls Revolt           73.0             97.0   \n",
       "3  the_mind_explained  The Mind, Explained            NaN            100.0   \n",
       "4             bonding              Bonding           64.0             78.0   \n",
       "\n",
       "   network        genre                                executive_producers  \\\n",
       "0  Netflix        Drama  ['Todd A. Kessler', 'Daniel Zelman', 'Glenn Ke...   \n",
       "1  Netflix       Comedy                       ['Don Reo', 'Jim Patterson']   \n",
       "2   Amazon        Drama  ['Dana Calvo', 'Lynda Obst', 'Darlene Hunt', '...   \n",
       "3  Netflix  Documentary                                               None   \n",
       "4  Netflix       Comedy  ['Rightor Doyle', 'Jacob Perlin', 'Nina Sorian...   \n",
       "\n",
       "  premiere_date  \n",
       "0    2015-03-20  \n",
       "1    2016-04-01  \n",
       "2    2016-10-28  \n",
       "3    2019-09-12  \n",
       "4    2019-04-24  "
      ]
     },
     "execution_count": 8,
     "metadata": {},
     "output_type": "execute_result"
    }
   ],
   "source": [
    "streaming.head()"
   ]
  },
  {
   "cell_type": "markdown",
   "metadata": {},
   "source": [
    "## Descriptive Statistics"
   ]
  },
  {
   "cell_type": "code",
   "execution_count": 9,
   "metadata": {},
   "outputs": [
    {
     "data": {
      "text/html": [
       "<div>\n",
       "<style scoped>\n",
       "    .dataframe tbody tr th:only-of-type {\n",
       "        vertical-align: middle;\n",
       "    }\n",
       "\n",
       "    .dataframe tbody tr th {\n",
       "        vertical-align: top;\n",
       "    }\n",
       "\n",
       "    .dataframe thead th {\n",
       "        text-align: right;\n",
       "    }\n",
       "</style>\n",
       "<table border=\"1\" class=\"dataframe\">\n",
       "  <thead>\n",
       "    <tr style=\"text-align: right;\">\n",
       "      <th></th>\n",
       "      <th>critic_rating</th>\n",
       "      <th>audience_rating</th>\n",
       "      <th>demo_rating</th>\n",
       "    </tr>\n",
       "  </thead>\n",
       "  <tbody>\n",
       "    <tr>\n",
       "      <th>count</th>\n",
       "      <td>8071.000000</td>\n",
       "      <td>19691.000000</td>\n",
       "      <td>24363.000000</td>\n",
       "    </tr>\n",
       "    <tr>\n",
       "      <th>mean</th>\n",
       "      <td>80.508115</td>\n",
       "      <td>81.466711</td>\n",
       "      <td>0.434548</td>\n",
       "    </tr>\n",
       "    <tr>\n",
       "      <th>std</th>\n",
       "      <td>9.773553</td>\n",
       "      <td>14.495839</td>\n",
       "      <td>0.273431</td>\n",
       "    </tr>\n",
       "    <tr>\n",
       "      <th>min</th>\n",
       "      <td>11.000000</td>\n",
       "      <td>17.000000</td>\n",
       "      <td>0.100000</td>\n",
       "    </tr>\n",
       "    <tr>\n",
       "      <th>25%</th>\n",
       "      <td>71.000000</td>\n",
       "      <td>67.000000</td>\n",
       "      <td>0.300000</td>\n",
       "    </tr>\n",
       "    <tr>\n",
       "      <th>50%</th>\n",
       "      <td>78.000000</td>\n",
       "      <td>87.000000</td>\n",
       "      <td>0.400000</td>\n",
       "    </tr>\n",
       "    <tr>\n",
       "      <th>75%</th>\n",
       "      <td>88.000000</td>\n",
       "      <td>93.000000</td>\n",
       "      <td>0.500000</td>\n",
       "    </tr>\n",
       "    <tr>\n",
       "      <th>max</th>\n",
       "      <td>100.000000</td>\n",
       "      <td>100.000000</td>\n",
       "      <td>5.800000</td>\n",
       "    </tr>\n",
       "  </tbody>\n",
       "</table>\n",
       "</div>"
      ],
      "text/plain": [
       "       critic_rating  audience_rating   demo_rating\n",
       "count    8071.000000     19691.000000  24363.000000\n",
       "mean       80.508115        81.466711      0.434548\n",
       "std         9.773553        14.495839      0.273431\n",
       "min        11.000000        17.000000      0.100000\n",
       "25%        71.000000        67.000000      0.300000\n",
       "50%        78.000000        87.000000      0.400000\n",
       "75%        88.000000        93.000000      0.500000\n",
       "max       100.000000       100.000000      5.800000"
      ]
     },
     "execution_count": 9,
     "metadata": {},
     "output_type": "execute_result"
    }
   ],
   "source": [
    "nielsen.describe()"
   ]
  },
  {
   "cell_type": "code",
   "execution_count": 10,
   "metadata": {},
   "outputs": [
    {
     "data": {
      "image/png": "[encoded data removed]",
      "text/plain": [
       "<Figure size 432x288 with 1 Axes>"
      ]
     },
     "metadata": {},
     "output_type": "display_data"
    }
   ],
   "source": [
    "sns.heatmap(nielsen.isna(), cbar=False);"
   ]
  },
  {
   "cell_type": "code",
   "execution_count": 11,
   "metadata": {},
   "outputs": [
    {
     "data": {
      "image/png": "[encoded data removed]",
      "text/plain": [
       "<Figure size 432x288 with 1 Axes>"
      ]
     },
     "metadata": {},
     "output_type": "display_data"
    }
   ],
   "source": [
    "sns.heatmap(streaming.isna(), cbar=False);"
   ]
  },
  {
   "cell_type": "markdown",
   "metadata": {},
   "source": [
    "## Analysis"
   ]
  },
  {
   "cell_type": "code",
   "execution_count": 12,
   "metadata": {},
   "outputs": [
    {
     "data": {
      "text/plain": [
       "Index(['rt_id', 'title', 'critic_rating', 'audience_rating', 'network',\n",
       "       'genre', 'executive_producers', 'demo_rating', 'date'],\n",
       "      dtype='object')"
      ]
     },
     "execution_count": 12,
     "metadata": {},
     "output_type": "execute_result"
    }
   ],
   "source": [
    "nielsen.columns"
   ]
  },
  {
   "cell_type": "code",
   "execution_count": 13,
   "metadata": {},
   "outputs": [],
   "source": [
    "avged = \\\n",
    "nielsen.groupby('rt_id').agg({\n",
    "     'rt_id'               : 'first'\n",
    "    ,'title'               : 'first'\n",
    "    ,'critic_rating'       : 'first'\n",
    "    ,'audience_rating'     : 'first'\n",
    "    ,'network'             : 'first'\n",
    "    ,'genre'               : 'first'\n",
    "    ,'executive_producers' : 'first'\n",
    "    ,'demo_rating'         : 'mean'\n",
    "})"
   ]
  },
  {
   "cell_type": "code",
   "execution_count": 14,
   "metadata": {},
   "outputs": [
    {
     "data": {
      "image/png": "[encoded data removed]",
      "text/plain": [
       "<Figure size 360x360 with 1 Axes>"
      ]
     },
     "metadata": {},
     "output_type": "display_data"
    }
   ],
   "source": [
    "sns.lmplot(y = 'audience_rating', x = 'critic_rating', data = avged, palette = 'muted', scatter_kws={\"s\": 50, \"alpha\": 1});"
   ]
  },
  {
   "cell_type": "code",
   "execution_count": 15,
   "metadata": {},
   "outputs": [
    {
     "data": {
      "image/png": "[encoded data removed]",
      "text/plain": [
       "<Figure size 432x288 with 1 Axes>"
      ]
     },
     "metadata": {},
     "output_type": "display_data"
    }
   ],
   "source": [
    "sns.distplot(avged.critic_rating.dropna());"
   ]
  },
  {
   "cell_type": "code",
   "execution_count": 16,
   "metadata": {},
   "outputs": [
    {
     "data": {
      "image/png": "[encoded data removed]",
      "text/plain": [
       "<Figure size 432x288 with 1 Axes>"
      ]
     },
     "metadata": {},
     "output_type": "display_data"
    }
   ],
   "source": [
    "sns.distplot(avged.critic_rating.dropna());"
   ]
  },
  {
   "cell_type": "code",
   "execution_count": 17,
   "metadata": {},
   "outputs": [
    {
     "data": {
      "image/png": "[encoded data removed]",
      "text/plain": [
       "<Figure size 432x288 with 1 Axes>"
      ]
     },
     "metadata": {},
     "output_type": "display_data"
    }
   ],
   "source": [
    "sns.distplot(avged.audience_rating.dropna());"
   ]
  },
  {
   "cell_type": "code",
   "execution_count": 18,
   "metadata": {},
   "outputs": [
    {
     "name": "stdout",
     "output_type": "stream",
     "text": [
      "<class 'pandas.core.frame.DataFrame'>\n",
      "Index: 503 entries, a_very_brady_renovation to z_nation\n",
      "Data columns (total 8 columns):\n",
      "rt_id                  503 non-null object\n",
      "title                  503 non-null object\n",
      "critic_rating          172 non-null float64\n",
      "audience_rating        336 non-null float64\n",
      "network                499 non-null object\n",
      "genre                  395 non-null object\n",
      "executive_producers    349 non-null object\n",
      "demo_rating            500 non-null float64\n",
      "dtypes: float64(3), object(5)\n",
      "memory usage: 55.4+ KB\n"
     ]
    }
   ],
   "source": [
    "avged.info()"
   ]
  },
  {
   "cell_type": "markdown",
   "metadata": {},
   "source": [
    "# You don't need to make amazing TV\n",
    "## If anything, better audience/critic ratings lead to less viewership"
   ]
  },
  {
   "cell_type": "code",
   "execution_count": 19,
   "metadata": {},
   "outputs": [
    {
     "data": {
      "image/png": "[encoded data removed]",
      "text/plain": [
       "<Figure size 360x360 with 1 Axes>"
      ]
     },
     "metadata": {},
     "output_type": "display_data"
    }
   ],
   "source": [
    "sns.lmplot(x = 'critic_rating', y = 'demo_rating', data = avged, palette = 'muted', scatter_kws={\"s\": 50, \"alpha\": 1});"
   ]
  },
  {
   "cell_type": "code",
   "execution_count": 20,
   "metadata": {},
   "outputs": [
    {
     "data": {
      "image/png": "[encoded data removed]",
      "text/plain": [
       "<Figure size 432x288 with 1 Axes>"
      ]
     },
     "metadata": {},
     "output_type": "display_data"
    }
   ],
   "source": [
    "sns.distplot(avged.demo_rating.dropna());"
   ]
  },
  {
   "cell_type": "code",
   "execution_count": 21,
   "metadata": {},
   "outputs": [
    {
     "data": {
      "image/png": "[encoded data removed]",
      "text/plain": [
       "<Figure size 360x360 with 1 Axes>"
      ]
     },
     "metadata": {},
     "output_type": "display_data"
    }
   ],
   "source": [
    "sns.lmplot(x = 'audience_rating', y = 'demo_rating', data = avged, palette = 'muted', scatter_kws={\"s\": 50, \"alpha\": 1});"
   ]
  },
  {
   "cell_type": "code",
   "execution_count": 22,
   "metadata": {},
   "outputs": [
    {
     "data": {
      "text/plain": [
       "503"
      ]
     },
     "execution_count": 22,
     "metadata": {},
     "output_type": "execute_result"
    }
   ],
   "source": [
    "len(avged)"
   ]
  },
  {
   "cell_type": "code",
   "execution_count": 23,
   "metadata": {},
   "outputs": [
    {
     "data": {
      "text/html": [
       "<div>\n",
       "<style scoped>\n",
       "    .dataframe tbody tr th:only-of-type {\n",
       "        vertical-align: middle;\n",
       "    }\n",
       "\n",
       "    .dataframe tbody tr th {\n",
       "        vertical-align: top;\n",
       "    }\n",
       "\n",
       "    .dataframe thead th {\n",
       "        text-align: right;\n",
       "    }\n",
       "</style>\n",
       "<table border=\"1\" class=\"dataframe\">\n",
       "  <thead>\n",
       "    <tr style=\"text-align: right;\">\n",
       "      <th></th>\n",
       "      <th>rt_id</th>\n",
       "      <th>title</th>\n",
       "      <th>critic_rating</th>\n",
       "      <th>audience_rating</th>\n",
       "      <th>network</th>\n",
       "      <th>genre</th>\n",
       "      <th>executive_producers</th>\n",
       "      <th>demo_rating</th>\n",
       "    </tr>\n",
       "    <tr>\n",
       "      <th>rt_id</th>\n",
       "      <th></th>\n",
       "      <th></th>\n",
       "      <th></th>\n",
       "      <th></th>\n",
       "      <th></th>\n",
       "      <th></th>\n",
       "      <th></th>\n",
       "      <th></th>\n",
       "    </tr>\n",
       "  </thead>\n",
       "  <tbody>\n",
       "    <tr>\n",
       "      <th>love_and_hip_hop_atlanta</th>\n",
       "      <td>love_and_hip_hop_atlanta</td>\n",
       "      <td>Love &amp; Hip Hop Atlanta</td>\n",
       "      <td>NaN</td>\n",
       "      <td>20.0</td>\n",
       "      <td>VH1</td>\n",
       "      <td>Television</td>\n",
       "      <td>['Mona Scott-Young']</td>\n",
       "      <td>1.105882</td>\n",
       "    </tr>\n",
       "    <tr>\n",
       "      <th>talking_dead</th>\n",
       "      <td>talking_dead</td>\n",
       "      <td>Talking Dead</td>\n",
       "      <td>NaN</td>\n",
       "      <td>67.0</td>\n",
       "      <td>AMC</td>\n",
       "      <td>Special Interest</td>\n",
       "      <td>None</td>\n",
       "      <td>1.108046</td>\n",
       "    </tr>\n",
       "    <tr>\n",
       "      <th>wwe_monday_night_raw</th>\n",
       "      <td>wwe_monday_night_raw</td>\n",
       "      <td>WWE Monday Night Raw</td>\n",
       "      <td>NaN</td>\n",
       "      <td>NaN</td>\n",
       "      <td>USA</td>\n",
       "      <td>None</td>\n",
       "      <td>None</td>\n",
       "      <td>1.111111</td>\n",
       "    </tr>\n",
       "    <tr>\n",
       "      <th>big_brother</th>\n",
       "      <td>big_brother</td>\n",
       "      <td>Big Brother 16</td>\n",
       "      <td>NaN</td>\n",
       "      <td>NaN</td>\n",
       "      <td>CBS</td>\n",
       "      <td>None</td>\n",
       "      <td>['Allison Grodner', 'Rich Meehan']</td>\n",
       "      <td>1.148148</td>\n",
       "    </tr>\n",
       "    <tr>\n",
       "      <th>american_horror_story_hotel</th>\n",
       "      <td>american_horror_story_hotel</td>\n",
       "      <td>American Horror Story: Hotel</td>\n",
       "      <td>NaN</td>\n",
       "      <td>NaN</td>\n",
       "      <td>FX</td>\n",
       "      <td>None</td>\n",
       "      <td>['Dante di Loreto', 'Ryan Murphy', 'Brad Falch...</td>\n",
       "      <td>1.166667</td>\n",
       "    </tr>\n",
       "    <tr>\n",
       "      <th>madoff</th>\n",
       "      <td>madoff</td>\n",
       "      <td>Madoff</td>\n",
       "      <td>68.0</td>\n",
       "      <td>62.0</td>\n",
       "      <td>ABC</td>\n",
       "      <td>Drama</td>\n",
       "      <td>['Linda Berman', 'Joe Pichirallo']</td>\n",
       "      <td>1.200000</td>\n",
       "    </tr>\n",
       "    <tr>\n",
       "      <th>americas_got_talent</th>\n",
       "      <td>americas_got_talent</td>\n",
       "      <td>America's Got Talent</td>\n",
       "      <td>NaN</td>\n",
       "      <td>61.0</td>\n",
       "      <td>NBC</td>\n",
       "      <td>None</td>\n",
       "      <td>['Simon Cowell', 'Ken Warwick', 'Cecile Frot-C...</td>\n",
       "      <td>1.250000</td>\n",
       "    </tr>\n",
       "    <tr>\n",
       "      <th>shark</th>\n",
       "      <td>shark</td>\n",
       "      <td>Shark</td>\n",
       "      <td>52.0</td>\n",
       "      <td>75.0</td>\n",
       "      <td>DISCOVERY</td>\n",
       "      <td>Drama</td>\n",
       "      <td>['Brian Grazer', 'David Nevins', 'Ian Biederma...</td>\n",
       "      <td>1.300000</td>\n",
       "    </tr>\n",
       "    <tr>\n",
       "      <th>the_terror</th>\n",
       "      <td>the_terror</td>\n",
       "      <td>The Terror</td>\n",
       "      <td>88.0</td>\n",
       "      <td>78.0</td>\n",
       "      <td>AMC</td>\n",
       "      <td>Drama</td>\n",
       "      <td>['Ridley Scott', 'David W. Zucker', 'Alexandra...</td>\n",
       "      <td>1.300000</td>\n",
       "    </tr>\n",
       "    <tr>\n",
       "      <th>life_in_pieces</th>\n",
       "      <td>life_in_pieces</td>\n",
       "      <td>Life in Pieces</td>\n",
       "      <td>NaN</td>\n",
       "      <td>83.0</td>\n",
       "      <td>None</td>\n",
       "      <td>Comedy</td>\n",
       "      <td>['Justin Adler', 'Aaron Kaplan', 'Jason Winer'...</td>\n",
       "      <td>1.300000</td>\n",
       "    </tr>\n",
       "    <tr>\n",
       "      <th>the_masked_singer</th>\n",
       "      <td>the_masked_singer</td>\n",
       "      <td>The Masked Singer</td>\n",
       "      <td>52.0</td>\n",
       "      <td>63.0</td>\n",
       "      <td>FOX</td>\n",
       "      <td>Musical &amp; Performing Arts</td>\n",
       "      <td>None</td>\n",
       "      <td>1.400000</td>\n",
       "    </tr>\n",
       "    <tr>\n",
       "      <th>the_voice</th>\n",
       "      <td>the_voice</td>\n",
       "      <td>The Voice</td>\n",
       "      <td>NaN</td>\n",
       "      <td>66.0</td>\n",
       "      <td>NBC</td>\n",
       "      <td>Television</td>\n",
       "      <td>['Mark Burnett', 'John de Mol', 'Audrey Morris...</td>\n",
       "      <td>1.400000</td>\n",
       "    </tr>\n",
       "    <tr>\n",
       "      <th>the_bachelor</th>\n",
       "      <td>the_bachelor</td>\n",
       "      <td>The Bachelor</td>\n",
       "      <td>NaN</td>\n",
       "      <td>49.0</td>\n",
       "      <td>ABC</td>\n",
       "      <td>Television</td>\n",
       "      <td>['Mike Fleiss', 'Martin Hilton', 'Bennett Grae...</td>\n",
       "      <td>1.533333</td>\n",
       "    </tr>\n",
       "    <tr>\n",
       "      <th>the_bachelorette</th>\n",
       "      <td>the_bachelorette</td>\n",
       "      <td>The Bachelorette</td>\n",
       "      <td>63.0</td>\n",
       "      <td>55.0</td>\n",
       "      <td>ABC</td>\n",
       "      <td>Television</td>\n",
       "      <td>['Mike Fleiss', 'Martin Hilton', 'Alycia Rossi...</td>\n",
       "      <td>1.733333</td>\n",
       "    </tr>\n",
       "    <tr>\n",
       "      <th>star_trek</th>\n",
       "      <td>star_trek</td>\n",
       "      <td>Star Trek</td>\n",
       "      <td>80.0</td>\n",
       "      <td>88.0</td>\n",
       "      <td>CBS</td>\n",
       "      <td>Science Fiction &amp; Fantasy</td>\n",
       "      <td>['Gene Roddenberry']</td>\n",
       "      <td>1.900000</td>\n",
       "    </tr>\n",
       "    <tr>\n",
       "      <th>the_big_bang_theory</th>\n",
       "      <td>the_big_bang_theory</td>\n",
       "      <td>The Big Bang Theory</td>\n",
       "      <td>81.0</td>\n",
       "      <td>81.0</td>\n",
       "      <td>None</td>\n",
       "      <td>Comedy</td>\n",
       "      <td>['Chuck Lorre', 'Bill Prady', 'Lee Aronsohn', ...</td>\n",
       "      <td>2.700000</td>\n",
       "    </tr>\n",
       "    <tr>\n",
       "      <th>the_walking_dead</th>\n",
       "      <td>the_walking_dead</td>\n",
       "      <td>The Walking Dead</td>\n",
       "      <td>81.0</td>\n",
       "      <td>77.0</td>\n",
       "      <td>AMC</td>\n",
       "      <td>Horror</td>\n",
       "      <td>['Robert Kirkman', 'Frank Darabont', 'Gale Ann...</td>\n",
       "      <td>3.170588</td>\n",
       "    </tr>\n",
       "    <tr>\n",
       "      <th>game_of_thrones</th>\n",
       "      <td>game_of_thrones</td>\n",
       "      <td>Game of Thrones</td>\n",
       "      <td>89.0</td>\n",
       "      <td>86.0</td>\n",
       "      <td>HBO</td>\n",
       "      <td>Science Fiction &amp; Fantasy</td>\n",
       "      <td>['David Benioff', 'Vince Gerardis', 'Guymon Ca...</td>\n",
       "      <td>3.624138</td>\n",
       "    </tr>\n",
       "    <tr>\n",
       "      <th>monday_night_football</th>\n",
       "      <td>monday_night_football</td>\n",
       "      <td>Monday Night Football</td>\n",
       "      <td>NaN</td>\n",
       "      <td>NaN</td>\n",
       "      <td>ESPN</td>\n",
       "      <td>Sports &amp; Fitness</td>\n",
       "      <td>['Roone Arledge']</td>\n",
       "      <td>4.050000</td>\n",
       "    </tr>\n",
       "  </tbody>\n",
       "</table>\n",
       "</div>"
      ],
      "text/plain": [
       "                                                   rt_id  \\\n",
       "rt_id                                                      \n",
       "love_and_hip_hop_atlanta        love_and_hip_hop_atlanta   \n",
       "talking_dead                                talking_dead   \n",
       "wwe_monday_night_raw                wwe_monday_night_raw   \n",
       "big_brother                                  big_brother   \n",
       "american_horror_story_hotel  american_horror_story_hotel   \n",
       "madoff                                            madoff   \n",
       "americas_got_talent                  americas_got_talent   \n",
       "shark                                              shark   \n",
       "the_terror                                    the_terror   \n",
       "life_in_pieces                            life_in_pieces   \n",
       "the_masked_singer                      the_masked_singer   \n",
       "the_voice                                      the_voice   \n",
       "the_bachelor                                the_bachelor   \n",
       "the_bachelorette                        the_bachelorette   \n",
       "star_trek                                      star_trek   \n",
       "the_big_bang_theory                  the_big_bang_theory   \n",
       "the_walking_dead                        the_walking_dead   \n",
       "game_of_thrones                          game_of_thrones   \n",
       "monday_night_football              monday_night_football   \n",
       "\n",
       "                                                    title  critic_rating  \\\n",
       "rt_id                                                                      \n",
       "love_and_hip_hop_atlanta           Love & Hip Hop Atlanta            NaN   \n",
       "talking_dead                                 Talking Dead            NaN   \n",
       "wwe_monday_night_raw                 WWE Monday Night Raw            NaN   \n",
       "big_brother                                Big Brother 16            NaN   \n",
       "american_horror_story_hotel  American Horror Story: Hotel            NaN   \n",
       "madoff                                             Madoff           68.0   \n",
       "americas_got_talent                  America's Got Talent            NaN   \n",
       "shark                                               Shark           52.0   \n",
       "the_terror                                     The Terror           88.0   \n",
       "life_in_pieces                             Life in Pieces            NaN   \n",
       "the_masked_singer                       The Masked Singer           52.0   \n",
       "the_voice                                       The Voice            NaN   \n",
       "the_bachelor                                 The Bachelor            NaN   \n",
       "the_bachelorette                         The Bachelorette           63.0   \n",
       "star_trek                                       Star Trek           80.0   \n",
       "the_big_bang_theory                   The Big Bang Theory           81.0   \n",
       "the_walking_dead                         The Walking Dead           81.0   \n",
       "game_of_thrones                           Game of Thrones           89.0   \n",
       "monday_night_football               Monday Night Football            NaN   \n",
       "\n",
       "                             audience_rating    network  \\\n",
       "rt_id                                                     \n",
       "love_and_hip_hop_atlanta                20.0        VH1   \n",
       "talking_dead                            67.0        AMC   \n",
       "wwe_monday_night_raw                     NaN        USA   \n",
       "big_brother                              NaN        CBS   \n",
       "american_horror_story_hotel              NaN         FX   \n",
       "madoff                                  62.0        ABC   \n",
       "americas_got_talent                     61.0        NBC   \n",
       "shark                                   75.0  DISCOVERY   \n",
       "the_terror                              78.0        AMC   \n",
       "life_in_pieces                          83.0       None   \n",
       "the_masked_singer                       63.0        FOX   \n",
       "the_voice                               66.0        NBC   \n",
       "the_bachelor                            49.0        ABC   \n",
       "the_bachelorette                        55.0        ABC   \n",
       "star_trek                               88.0        CBS   \n",
       "the_big_bang_theory                     81.0       None   \n",
       "the_walking_dead                        77.0        AMC   \n",
       "game_of_thrones                         86.0        HBO   \n",
       "monday_night_football                    NaN       ESPN   \n",
       "\n",
       "                                                 genre  \\\n",
       "rt_id                                                    \n",
       "love_and_hip_hop_atlanta                    Television   \n",
       "talking_dead                          Special Interest   \n",
       "wwe_monday_night_raw                              None   \n",
       "big_brother                                       None   \n",
       "american_horror_story_hotel                       None   \n",
       "madoff                                           Drama   \n",
       "americas_got_talent                               None   \n",
       "shark                                            Drama   \n",
       "the_terror                                       Drama   \n",
       "life_in_pieces                                  Comedy   \n",
       "the_masked_singer            Musical & Performing Arts   \n",
       "the_voice                                   Television   \n",
       "the_bachelor                                Television   \n",
       "the_bachelorette                            Television   \n",
       "star_trek                    Science Fiction & Fantasy   \n",
       "the_big_bang_theory                             Comedy   \n",
       "the_walking_dead                                Horror   \n",
       "game_of_thrones              Science Fiction & Fantasy   \n",
       "monday_night_football                 Sports & Fitness   \n",
       "\n",
       "                                                           executive_producers  \\\n",
       "rt_id                                                                            \n",
       "love_and_hip_hop_atlanta                                  ['Mona Scott-Young']   \n",
       "talking_dead                                                              None   \n",
       "wwe_monday_night_raw                                                      None   \n",
       "big_brother                                 ['Allison Grodner', 'Rich Meehan']   \n",
       "american_horror_story_hotel  ['Dante di Loreto', 'Ryan Murphy', 'Brad Falch...   \n",
       "madoff                                      ['Linda Berman', 'Joe Pichirallo']   \n",
       "americas_got_talent          ['Simon Cowell', 'Ken Warwick', 'Cecile Frot-C...   \n",
       "shark                        ['Brian Grazer', 'David Nevins', 'Ian Biederma...   \n",
       "the_terror                   ['Ridley Scott', 'David W. Zucker', 'Alexandra...   \n",
       "life_in_pieces               ['Justin Adler', 'Aaron Kaplan', 'Jason Winer'...   \n",
       "the_masked_singer                                                         None   \n",
       "the_voice                    ['Mark Burnett', 'John de Mol', 'Audrey Morris...   \n",
       "the_bachelor                 ['Mike Fleiss', 'Martin Hilton', 'Bennett Grae...   \n",
       "the_bachelorette             ['Mike Fleiss', 'Martin Hilton', 'Alycia Rossi...   \n",
       "star_trek                                                 ['Gene Roddenberry']   \n",
       "the_big_bang_theory          ['Chuck Lorre', 'Bill Prady', 'Lee Aronsohn', ...   \n",
       "the_walking_dead             ['Robert Kirkman', 'Frank Darabont', 'Gale Ann...   \n",
       "game_of_thrones              ['David Benioff', 'Vince Gerardis', 'Guymon Ca...   \n",
       "monday_night_football                                        ['Roone Arledge']   \n",
       "\n",
       "                             demo_rating  \n",
       "rt_id                                     \n",
       "love_and_hip_hop_atlanta        1.105882  \n",
       "talking_dead                    1.108046  \n",
       "wwe_monday_night_raw            1.111111  \n",
       "big_brother                     1.148148  \n",
       "american_horror_story_hotel     1.166667  \n",
       "madoff                          1.200000  \n",
       "americas_got_talent             1.250000  \n",
       "shark                           1.300000  \n",
       "the_terror                      1.300000  \n",
       "life_in_pieces                  1.300000  \n",
       "the_masked_singer               1.400000  \n",
       "the_voice                       1.400000  \n",
       "the_bachelor                    1.533333  \n",
       "the_bachelorette                1.733333  \n",
       "star_trek                       1.900000  \n",
       "the_big_bang_theory             2.700000  \n",
       "the_walking_dead                3.170588  \n",
       "game_of_thrones                 3.624138  \n",
       "monday_night_football           4.050000  "
      ]
     },
     "execution_count": 23,
     "metadata": {},
     "output_type": "execute_result"
    }
   ],
   "source": [
    "avged[avged.demo_rating > 1].sort_values('demo_rating')"
   ]
  },
  {
   "cell_type": "code",
   "execution_count": 24,
   "metadata": {},
   "outputs": [
    {
     "data": {
      "text/html": [
       "<div>\n",
       "<style scoped>\n",
       "    .dataframe tbody tr th:only-of-type {\n",
       "        vertical-align: middle;\n",
       "    }\n",
       "\n",
       "    .dataframe tbody tr th {\n",
       "        vertical-align: top;\n",
       "    }\n",
       "\n",
       "    .dataframe thead th {\n",
       "        text-align: right;\n",
       "    }\n",
       "</style>\n",
       "<table border=\"1\" class=\"dataframe\">\n",
       "  <thead>\n",
       "    <tr style=\"text-align: right;\">\n",
       "      <th></th>\n",
       "      <th>rt_id</th>\n",
       "      <th>title</th>\n",
       "      <th>critic_rating</th>\n",
       "      <th>audience_rating</th>\n",
       "      <th>network</th>\n",
       "      <th>genre</th>\n",
       "      <th>executive_producers</th>\n",
       "      <th>demo_rating</th>\n",
       "    </tr>\n",
       "    <tr>\n",
       "      <th>rt_id</th>\n",
       "      <th></th>\n",
       "      <th></th>\n",
       "      <th></th>\n",
       "      <th></th>\n",
       "      <th></th>\n",
       "      <th></th>\n",
       "      <th></th>\n",
       "      <th></th>\n",
       "    </tr>\n",
       "  </thead>\n",
       "  <tbody>\n",
       "    <tr>\n",
       "      <th>star_wars_forces_of_destiny</th>\n",
       "      <td>star_wars_forces_of_destiny</td>\n",
       "      <td>Star Wars: Forces of Destiny</td>\n",
       "      <td>NaN</td>\n",
       "      <td>17.0</td>\n",
       "      <td>DISNEY</td>\n",
       "      <td>Animation</td>\n",
       "      <td>None</td>\n",
       "      <td>0.300000</td>\n",
       "    </tr>\n",
       "    <tr>\n",
       "      <th>the_view</th>\n",
       "      <td>the_view</td>\n",
       "      <td>The View</td>\n",
       "      <td>NaN</td>\n",
       "      <td>29.0</td>\n",
       "      <td>ABC</td>\n",
       "      <td>None</td>\n",
       "      <td>['Barbara Walters', 'Bill Geddie']</td>\n",
       "      <td>0.400000</td>\n",
       "    </tr>\n",
       "    <tr>\n",
       "      <th>jimmy_kimmel_live</th>\n",
       "      <td>jimmy_kimmel_live</td>\n",
       "      <td>Jimmy Kimmel Live</td>\n",
       "      <td>NaN</td>\n",
       "      <td>17.0</td>\n",
       "      <td>ABC</td>\n",
       "      <td>Comedy</td>\n",
       "      <td>['Jimmy Kimmel', 'Jill Leiderman', 'Daniel Kel...</td>\n",
       "      <td>1.000000</td>\n",
       "    </tr>\n",
       "    <tr>\n",
       "      <th>love_and_hip_hop_atlanta</th>\n",
       "      <td>love_and_hip_hop_atlanta</td>\n",
       "      <td>Love &amp; Hip Hop Atlanta</td>\n",
       "      <td>NaN</td>\n",
       "      <td>20.0</td>\n",
       "      <td>VH1</td>\n",
       "      <td>Television</td>\n",
       "      <td>['Mona Scott-Young']</td>\n",
       "      <td>1.105882</td>\n",
       "    </tr>\n",
       "  </tbody>\n",
       "</table>\n",
       "</div>"
      ],
      "text/plain": [
       "                                                   rt_id  \\\n",
       "rt_id                                                      \n",
       "star_wars_forces_of_destiny  star_wars_forces_of_destiny   \n",
       "the_view                                        the_view   \n",
       "jimmy_kimmel_live                      jimmy_kimmel_live   \n",
       "love_and_hip_hop_atlanta        love_and_hip_hop_atlanta   \n",
       "\n",
       "                                                    title  critic_rating  \\\n",
       "rt_id                                                                      \n",
       "star_wars_forces_of_destiny  Star Wars: Forces of Destiny            NaN   \n",
       "the_view                                         The View            NaN   \n",
       "jimmy_kimmel_live                       Jimmy Kimmel Live            NaN   \n",
       "love_and_hip_hop_atlanta           Love & Hip Hop Atlanta            NaN   \n",
       "\n",
       "                             audience_rating network       genre  \\\n",
       "rt_id                                                              \n",
       "star_wars_forces_of_destiny             17.0  DISNEY   Animation   \n",
       "the_view                                29.0     ABC        None   \n",
       "jimmy_kimmel_live                       17.0     ABC      Comedy   \n",
       "love_and_hip_hop_atlanta                20.0     VH1  Television   \n",
       "\n",
       "                                                           executive_producers  \\\n",
       "rt_id                                                                            \n",
       "star_wars_forces_of_destiny                                               None   \n",
       "the_view                                    ['Barbara Walters', 'Bill Geddie']   \n",
       "jimmy_kimmel_live            ['Jimmy Kimmel', 'Jill Leiderman', 'Daniel Kel...   \n",
       "love_and_hip_hop_atlanta                                  ['Mona Scott-Young']   \n",
       "\n",
       "                             demo_rating  \n",
       "rt_id                                     \n",
       "star_wars_forces_of_destiny     0.300000  \n",
       "the_view                        0.400000  \n",
       "jimmy_kimmel_live               1.000000  \n",
       "love_and_hip_hop_atlanta        1.105882  "
      ]
     },
     "execution_count": 24,
     "metadata": {},
     "output_type": "execute_result"
    }
   ],
   "source": [
    "avged[avged.audience_rating < 30].sort_values('demo_rating')"
   ]
  },
  {
   "cell_type": "code",
   "execution_count": 25,
   "metadata": {},
   "outputs": [],
   "source": [
    "import statsmodels.formula.api as sm"
   ]
  },
  {
   "cell_type": "code",
   "execution_count": 26,
   "metadata": {},
   "outputs": [],
   "source": [
    "lm_audience = sm.ols(formula = 'demo_rating ~ audience_rating', data = avged).fit()"
   ]
  },
  {
   "cell_type": "code",
   "execution_count": 27,
   "metadata": {},
   "outputs": [
    {
     "data": {
      "text/html": [
       "<table class=\"simpletable\">\n",
       "<caption>OLS Regression Results</caption>\n",
       "<tr>\n",
       "  <th>Dep. Variable:</th>       <td>demo_rating</td>   <th>  R-squared:         </th> <td>   0.033</td>\n",
       "</tr>\n",
       "<tr>\n",
       "  <th>Model:</th>                   <td>OLS</td>       <th>  Adj. R-squared:    </th> <td>   0.031</td>\n",
       "</tr>\n",
       "<tr>\n",
       "  <th>Method:</th>             <td>Least Squares</td>  <th>  F-statistic:       </th> <td>   11.45</td>\n",
       "</tr>\n",
       "<tr>\n",
       "  <th>Date:</th>             <td>Thu, 31 Oct 2019</td> <th>  Prob (F-statistic):</th> <td>0.000800</td>\n",
       "</tr>\n",
       "<tr>\n",
       "  <th>Time:</th>                 <td>14:15:23</td>     <th>  Log-Likelihood:    </th> <td> -120.38</td>\n",
       "</tr>\n",
       "<tr>\n",
       "  <th>No. Observations:</th>      <td>   333</td>      <th>  AIC:               </th> <td>   244.8</td>\n",
       "</tr>\n",
       "<tr>\n",
       "  <th>Df Residuals:</th>          <td>   331</td>      <th>  BIC:               </th> <td>   252.4</td>\n",
       "</tr>\n",
       "<tr>\n",
       "  <th>Df Model:</th>              <td>     1</td>      <th>                     </th>     <td> </td>   \n",
       "</tr>\n",
       "<tr>\n",
       "  <th>Covariance Type:</th>      <td>nonrobust</td>    <th>                     </th>     <td> </td>   \n",
       "</tr>\n",
       "</table>\n",
       "<table class=\"simpletable\">\n",
       "<tr>\n",
       "         <td></td>            <th>coef</th>     <th>std err</th>      <th>t</th>      <th>P>|t|</th>  <th>[0.025</th>    <th>0.975]</th>  \n",
       "</tr>\n",
       "<tr>\n",
       "  <th>Intercept</th>       <td>    0.7671</td> <td>    0.100</td> <td>    7.708</td> <td> 0.000</td> <td>    0.571</td> <td>    0.963</td>\n",
       "</tr>\n",
       "<tr>\n",
       "  <th>audience_rating</th> <td>   -0.0040</td> <td>    0.001</td> <td>   -3.384</td> <td> 0.001</td> <td>   -0.006</td> <td>   -0.002</td>\n",
       "</tr>\n",
       "</table>\n",
       "<table class=\"simpletable\">\n",
       "<tr>\n",
       "  <th>Omnibus:</th>       <td>390.842</td> <th>  Durbin-Watson:     </th> <td>   1.707</td> \n",
       "</tr>\n",
       "<tr>\n",
       "  <th>Prob(Omnibus):</th> <td> 0.000</td>  <th>  Jarque-Bera (JB):  </th> <td>21292.869</td>\n",
       "</tr>\n",
       "<tr>\n",
       "  <th>Skew:</th>          <td> 5.324</td>  <th>  Prob(JB):          </th> <td>    0.00</td> \n",
       "</tr>\n",
       "<tr>\n",
       "  <th>Kurtosis:</th>      <td>40.699</td>  <th>  Cond. No.          </th> <td>    437.</td> \n",
       "</tr>\n",
       "</table><br/><br/>Warnings:<br/>[1] Standard Errors assume that the covariance matrix of the errors is correctly specified."
      ],
      "text/plain": [
       "<class 'statsmodels.iolib.summary.Summary'>\n",
       "\"\"\"\n",
       "                            OLS Regression Results                            \n",
       "==============================================================================\n",
       "Dep. Variable:            demo_rating   R-squared:                       0.033\n",
       "Model:                            OLS   Adj. R-squared:                  0.031\n",
       "Method:                 Least Squares   F-statistic:                     11.45\n",
       "Date:                Thu, 31 Oct 2019   Prob (F-statistic):           0.000800\n",
       "Time:                        14:15:23   Log-Likelihood:                -120.38\n",
       "No. Observations:                 333   AIC:                             244.8\n",
       "Df Residuals:                     331   BIC:                             252.4\n",
       "Df Model:                           1                                         \n",
       "Covariance Type:            nonrobust                                         \n",
       "===================================================================================\n",
       "                      coef    std err          t      P>|t|      [0.025      0.975]\n",
       "-----------------------------------------------------------------------------------\n",
       "Intercept           0.7671      0.100      7.708      0.000       0.571       0.963\n",
       "audience_rating    -0.0040      0.001     -3.384      0.001      -0.006      -0.002\n",
       "==============================================================================\n",
       "Omnibus:                      390.842   Durbin-Watson:                   1.707\n",
       "Prob(Omnibus):                  0.000   Jarque-Bera (JB):            21292.869\n",
       "Skew:                           5.324   Prob(JB):                         0.00\n",
       "Kurtosis:                      40.699   Cond. No.                         437.\n",
       "==============================================================================\n",
       "\n",
       "Warnings:\n",
       "[1] Standard Errors assume that the covariance matrix of the errors is correctly specified.\n",
       "\"\"\""
      ]
     },
     "execution_count": 27,
     "metadata": {},
     "output_type": "execute_result"
    }
   ],
   "source": [
    "lm_audience.summary()"
   ]
  },
  {
   "cell_type": "code",
   "execution_count": 28,
   "metadata": {},
   "outputs": [],
   "source": [
    "lm_critic = sm.ols(formula = 'demo_rating ~ critic_rating', data = avged).fit()"
   ]
  },
  {
   "cell_type": "code",
   "execution_count": 29,
   "metadata": {},
   "outputs": [
    {
     "data": {
      "text/html": [
       "<table class=\"simpletable\">\n",
       "<caption>OLS Regression Results</caption>\n",
       "<tr>\n",
       "  <th>Dep. Variable:</th>       <td>demo_rating</td>   <th>  R-squared:         </th> <td>   0.003</td>\n",
       "</tr>\n",
       "<tr>\n",
       "  <th>Model:</th>                   <td>OLS</td>       <th>  Adj. R-squared:    </th> <td>  -0.002</td>\n",
       "</tr>\n",
       "<tr>\n",
       "  <th>Method:</th>             <td>Least Squares</td>  <th>  F-statistic:       </th> <td>  0.5875</td>\n",
       "</tr>\n",
       "<tr>\n",
       "  <th>Date:</th>             <td>Thu, 31 Oct 2019</td> <th>  Prob (F-statistic):</th>  <td> 0.444</td> \n",
       "</tr>\n",
       "<tr>\n",
       "  <th>Time:</th>                 <td>14:15:23</td>     <th>  Log-Likelihood:    </th> <td> -103.15</td>\n",
       "</tr>\n",
       "<tr>\n",
       "  <th>No. Observations:</th>      <td>   171</td>      <th>  AIC:               </th> <td>   210.3</td>\n",
       "</tr>\n",
       "<tr>\n",
       "  <th>Df Residuals:</th>          <td>   169</td>      <th>  BIC:               </th> <td>   216.6</td>\n",
       "</tr>\n",
       "<tr>\n",
       "  <th>Df Model:</th>              <td>     1</td>      <th>                     </th>     <td> </td>   \n",
       "</tr>\n",
       "<tr>\n",
       "  <th>Covariance Type:</th>      <td>nonrobust</td>    <th>                     </th>     <td> </td>   \n",
       "</tr>\n",
       "</table>\n",
       "<table class=\"simpletable\">\n",
       "<tr>\n",
       "        <td></td>           <th>coef</th>     <th>std err</th>      <th>t</th>      <th>P>|t|</th>  <th>[0.025</th>    <th>0.975]</th>  \n",
       "</tr>\n",
       "<tr>\n",
       "  <th>Intercept</th>     <td>    0.5912</td> <td>    0.157</td> <td>    3.770</td> <td> 0.000</td> <td>    0.282</td> <td>    0.901</td>\n",
       "</tr>\n",
       "<tr>\n",
       "  <th>critic_rating</th> <td>   -0.0015</td> <td>    0.002</td> <td>   -0.766</td> <td> 0.444</td> <td>   -0.005</td> <td>    0.002</td>\n",
       "</tr>\n",
       "</table>\n",
       "<table class=\"simpletable\">\n",
       "<tr>\n",
       "  <th>Omnibus:</th>       <td>197.703</td> <th>  Durbin-Watson:     </th> <td>   1.738</td>\n",
       "</tr>\n",
       "<tr>\n",
       "  <th>Prob(Omnibus):</th> <td> 0.000</td>  <th>  Jarque-Bera (JB):  </th> <td>5232.464</td>\n",
       "</tr>\n",
       "<tr>\n",
       "  <th>Skew:</th>          <td> 4.659</td>  <th>  Prob(JB):          </th> <td>    0.00</td>\n",
       "</tr>\n",
       "<tr>\n",
       "  <th>Kurtosis:</th>      <td>28.447</td>  <th>  Cond. No.          </th> <td>    379.</td>\n",
       "</tr>\n",
       "</table><br/><br/>Warnings:<br/>[1] Standard Errors assume that the covariance matrix of the errors is correctly specified."
      ],
      "text/plain": [
       "<class 'statsmodels.iolib.summary.Summary'>\n",
       "\"\"\"\n",
       "                            OLS Regression Results                            \n",
       "==============================================================================\n",
       "Dep. Variable:            demo_rating   R-squared:                       0.003\n",
       "Model:                            OLS   Adj. R-squared:                 -0.002\n",
       "Method:                 Least Squares   F-statistic:                    0.5875\n",
       "Date:                Thu, 31 Oct 2019   Prob (F-statistic):              0.444\n",
       "Time:                        14:15:23   Log-Likelihood:                -103.15\n",
       "No. Observations:                 171   AIC:                             210.3\n",
       "Df Residuals:                     169   BIC:                             216.6\n",
       "Df Model:                           1                                         \n",
       "Covariance Type:            nonrobust                                         \n",
       "=================================================================================\n",
       "                    coef    std err          t      P>|t|      [0.025      0.975]\n",
       "---------------------------------------------------------------------------------\n",
       "Intercept         0.5912      0.157      3.770      0.000       0.282       0.901\n",
       "critic_rating    -0.0015      0.002     -0.766      0.444      -0.005       0.002\n",
       "==============================================================================\n",
       "Omnibus:                      197.703   Durbin-Watson:                   1.738\n",
       "Prob(Omnibus):                  0.000   Jarque-Bera (JB):             5232.464\n",
       "Skew:                           4.659   Prob(JB):                         0.00\n",
       "Kurtosis:                      28.447   Cond. No.                         379.\n",
       "==============================================================================\n",
       "\n",
       "Warnings:\n",
       "[1] Standard Errors assume that the covariance matrix of the errors is correctly specified.\n",
       "\"\"\""
      ]
     },
     "execution_count": 29,
     "metadata": {},
     "output_type": "execute_result"
    }
   ],
   "source": [
    "lm_critic.summary()"
   ]
  },
  {
   "cell_type": "code",
   "execution_count": 30,
   "metadata": {},
   "outputs": [],
   "source": [
    "lm_critic_audience = sm.ols(formula = 'audience_rating ~ critic_rating', data = avged).fit()"
   ]
  },
  {
   "cell_type": "code",
   "execution_count": 31,
   "metadata": {},
   "outputs": [
    {
     "data": {
      "text/html": [
       "<table class=\"simpletable\">\n",
       "<caption>OLS Regression Results</caption>\n",
       "<tr>\n",
       "  <th>Dep. Variable:</th>     <td>audience_rating</td> <th>  R-squared:         </th> <td>   0.315</td>\n",
       "</tr>\n",
       "<tr>\n",
       "  <th>Model:</th>                   <td>OLS</td>       <th>  Adj. R-squared:    </th> <td>   0.311</td>\n",
       "</tr>\n",
       "<tr>\n",
       "  <th>Method:</th>             <td>Least Squares</td>  <th>  F-statistic:       </th> <td>   75.39</td>\n",
       "</tr>\n",
       "<tr>\n",
       "  <th>Date:</th>             <td>Thu, 31 Oct 2019</td> <th>  Prob (F-statistic):</th> <td>3.72e-15</td>\n",
       "</tr>\n",
       "<tr>\n",
       "  <th>Time:</th>                 <td>14:15:23</td>     <th>  Log-Likelihood:    </th> <td> -611.11</td>\n",
       "</tr>\n",
       "<tr>\n",
       "  <th>No. Observations:</th>      <td>   166</td>      <th>  AIC:               </th> <td>   1226.</td>\n",
       "</tr>\n",
       "<tr>\n",
       "  <th>Df Residuals:</th>          <td>   164</td>      <th>  BIC:               </th> <td>   1232.</td>\n",
       "</tr>\n",
       "<tr>\n",
       "  <th>Df Model:</th>              <td>     1</td>      <th>                     </th>     <td> </td>   \n",
       "</tr>\n",
       "<tr>\n",
       "  <th>Covariance Type:</th>      <td>nonrobust</td>    <th>                     </th>     <td> </td>   \n",
       "</tr>\n",
       "</table>\n",
       "<table class=\"simpletable\">\n",
       "<tr>\n",
       "        <td></td>           <th>coef</th>     <th>std err</th>      <th>t</th>      <th>P>|t|</th>  <th>[0.025</th>    <th>0.975]</th>  \n",
       "</tr>\n",
       "<tr>\n",
       "  <th>Intercept</th>     <td>   50.7330</td> <td>    3.568</td> <td>   14.220</td> <td> 0.000</td> <td>   43.688</td> <td>   57.778</td>\n",
       "</tr>\n",
       "<tr>\n",
       "  <th>critic_rating</th> <td>    0.3750</td> <td>    0.043</td> <td>    8.683</td> <td> 0.000</td> <td>    0.290</td> <td>    0.460</td>\n",
       "</tr>\n",
       "</table>\n",
       "<table class=\"simpletable\">\n",
       "<tr>\n",
       "  <th>Omnibus:</th>       <td>10.449</td> <th>  Durbin-Watson:     </th> <td>   1.674</td>\n",
       "</tr>\n",
       "<tr>\n",
       "  <th>Prob(Omnibus):</th> <td> 0.005</td> <th>  Jarque-Bera (JB):  </th> <td>  12.377</td>\n",
       "</tr>\n",
       "<tr>\n",
       "  <th>Skew:</th>          <td>-0.450</td> <th>  Prob(JB):          </th> <td> 0.00205</td>\n",
       "</tr>\n",
       "<tr>\n",
       "  <th>Kurtosis:</th>      <td> 3.989</td> <th>  Cond. No.          </th> <td>    393.</td>\n",
       "</tr>\n",
       "</table><br/><br/>Warnings:<br/>[1] Standard Errors assume that the covariance matrix of the errors is correctly specified."
      ],
      "text/plain": [
       "<class 'statsmodels.iolib.summary.Summary'>\n",
       "\"\"\"\n",
       "                            OLS Regression Results                            \n",
       "==============================================================================\n",
       "Dep. Variable:        audience_rating   R-squared:                       0.315\n",
       "Model:                            OLS   Adj. R-squared:                  0.311\n",
       "Method:                 Least Squares   F-statistic:                     75.39\n",
       "Date:                Thu, 31 Oct 2019   Prob (F-statistic):           3.72e-15\n",
       "Time:                        14:15:23   Log-Likelihood:                -611.11\n",
       "No. Observations:                 166   AIC:                             1226.\n",
       "Df Residuals:                     164   BIC:                             1232.\n",
       "Df Model:                           1                                         \n",
       "Covariance Type:            nonrobust                                         \n",
       "=================================================================================\n",
       "                    coef    std err          t      P>|t|      [0.025      0.975]\n",
       "---------------------------------------------------------------------------------\n",
       "Intercept        50.7330      3.568     14.220      0.000      43.688      57.778\n",
       "critic_rating     0.3750      0.043      8.683      0.000       0.290       0.460\n",
       "==============================================================================\n",
       "Omnibus:                       10.449   Durbin-Watson:                   1.674\n",
       "Prob(Omnibus):                  0.005   Jarque-Bera (JB):               12.377\n",
       "Skew:                          -0.450   Prob(JB):                      0.00205\n",
       "Kurtosis:                       3.989   Cond. No.                         393.\n",
       "==============================================================================\n",
       "\n",
       "Warnings:\n",
       "[1] Standard Errors assume that the covariance matrix of the errors is correctly specified.\n",
       "\"\"\""
      ]
     },
     "execution_count": 31,
     "metadata": {},
     "output_type": "execute_result"
    }
   ],
   "source": [
    "lm_critic_audience.summary()"
   ]
  },
  {
   "cell_type": "markdown",
   "metadata": {},
   "source": [
    "## Slide 2 — Prepare for Seasonality\n",
    "This could either be\n",
    "1. A sign of when people watch TV\n",
    "1. A sign of when the networks are the strongest competition\n",
    "\n",
    "If the former, great. If the latter, there could be unmet demand"
   ]
  },
  {
   "cell_type": "markdown",
   "metadata": {},
   "source": [
    "RT ratings versus premiere date by network\n",
    "Demo_ratings versus month"
   ]
  },
  {
   "cell_type": "code",
   "execution_count": 35,
   "metadata": {},
   "outputs": [],
   "source": [
    "by_month = nielsen.copy()\n",
    "by_month.dropna(subset = ['date'], inplace = True)\n",
    "by_month['month'] = by_month.date.dt.month\n",
    "by_month = by_month.groupby(['month']).aggregate({'demo_rating' : 'mean'}).reset_index()"
   ]
  },
  {
   "cell_type": "code",
   "execution_count": 36,
   "metadata": {},
   "outputs": [
    {
     "data": {
      "image/png": "[encoded data removed]",
      "text/plain": [
       "<Figure size 432x288 with 1 Axes>"
      ]
     },
     "metadata": {},
     "output_type": "display_data"
    }
   ],
   "source": [
    "fig, ax = plt.subplots()\n",
    "sns.set_color_codes(\"pastel\")\n",
    "sns.barplot(x = 'month', y = 'demo_rating', data = by_month, ax = ax, color = 'b');"
   ]
  },
  {
   "cell_type": "markdown",
   "metadata": {},
   "source": [
    "# Slide 3"
   ]
  },
  {
   "cell_type": "code",
   "execution_count": 53,
   "metadata": {},
   "outputs": [],
   "source": [
    "keep_fields = ['rt_id', 'title', 'critic_rating', 'audience_rating', 'genre', 'network', 'executive_producers']\n",
    "together = pd.concat([avged[keep_fields], streaming[keep_fields]], axis = 0)"
   ]
  },
  {
   "cell_type": "code",
   "execution_count": 70,
   "metadata": {},
   "outputs": [],
   "source": [
    "grouper = lambda n : n if n in ['Netflix', 'Amazon'] else 'Corded/Broadcast TV'"
   ]
  },
  {
   "cell_type": "code",
   "execution_count": 74,
   "metadata": {},
   "outputs": [],
   "source": [
    "together['network_grouped'] = together.network.map(grouper)"
   ]
  },
  {
   "cell_type": "code",
   "execution_count": 75,
   "metadata": {},
   "outputs": [],
   "source": [
    "a = together[['rt_id', 'network_grouped', 'audience_rating', 'critic_rating']].rename({'network_grouped' : 'network'}, axis = 'columns').set_index(['rt_id', 'network']).stack()"
   ]
  },
  {
   "cell_type": "code",
   "execution_count": 76,
   "metadata": {},
   "outputs": [],
   "source": [
    "a.index.set_names('rating_type', 2, inplace = True)"
   ]
  },
  {
   "cell_type": "code",
   "execution_count": 77,
   "metadata": {},
   "outputs": [],
   "source": [
    "a = a.rename('rating').reset_index()"
   ]
  },
  {
   "cell_type": "code",
   "execution_count": 79,
   "metadata": {},
   "outputs": [
    {
     "data": {
      "text/plain": [
       "<seaborn.axisgrid.FacetGrid at 0x11047b080>"
      ]
     },
     "execution_count": 79,
     "metadata": {},
     "output_type": "execute_result"
    },
    {
     "data": {
      "image/png": "[encoded data removed]",
      "text/plain": [
       "<Figure size 537.65x360 with 1 Axes>"
      ]
     },
     "metadata": {},
     "output_type": "display_data"
    }
   ],
   "source": [
    "sns.catplot(x = 'network', y = 'rating', hue = 'rating_type', data = a, kind = 'bar')"
   ]
  }
 ],
 "metadata": {
  "kernelspec": {
   "display_name": "Python [conda env:yelpapi]",
   "language": "python",
   "name": "conda-env-yelpapi-py"
  },
  "language_info": {
   "codemirror_mode": {
    "name": "ipython",
    "version": 3
   },
   "file_extension": ".py",
   "mimetype": "text/x-python",
   "name": "python",
   "nbconvert_exporter": "python",
   "pygments_lexer": "ipython3",
   "version": "3.7.3"
  }
 },
 "nbformat": 4,
 "nbformat_minor": 2
}
