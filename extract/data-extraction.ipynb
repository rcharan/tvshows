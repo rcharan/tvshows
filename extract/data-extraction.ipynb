{
 "cells": [
  {
   "cell_type": "markdown",
   "metadata": {},
   "source": [
    "# Scrape tv-by-the-numbers and rotten-tomatoes"
   ]
  },
  {
   "cell_type": "markdown",
   "metadata": {},
   "source": [
    "Scrape [TV by the numbers](https://tvbythenumbers.zap2it.com/category/daily-ratings/) to get daily ratings for tv shows"
   ]
  },
  {
   "cell_type": "code",
   "execution_count": 3,
   "metadata": {},
   "outputs": [],
   "source": [
    "%load_ext autoreload\n",
    "%autoreload 2"
   ]
  },
  {
   "cell_type": "code",
   "execution_count": 4,
   "metadata": {},
   "outputs": [],
   "source": [
    "from tv_by_the_numbers import *\n",
    "import tv_by_the_numbers as debug #Access to hidden modules for debugging convenience"
   ]
  },
  {
   "cell_type": "code",
   "execution_count": null,
   "metadata": {},
   "outputs": [],
   "source": [
    "! conda list '(beautifulsoup4|mysql-connector|pandas|python$)'"
   ]
  },
  {
   "cell_type": "markdown",
   "metadata": {},
   "source": [
    "```python\n",
    "beautifulsoup4            4.8.0                    py37_0    conda-forge\n",
    "ipython                   7.8.0            py37h5ca1d4c_0    conda-forge\n",
    "msgpack-python            0.6.2            py37h770b8ee_0    conda-forge\n",
    "mysql-connector-c         6.1.11            h42c63d9_1003    conda-forge\n",
    "mysql-connector-python    8.0.18           py37he91358f_0    conda-forge\n",
    "pandas                    0.25.1           py37h86efe34_0    conda-forge\n",
    "python                    3.7.3                h359304d_0  \n",
    "```"
   ]
  },
  {
   "cell_type": "markdown",
   "metadata": {},
   "source": [
    "Definitions:\n",
    " - A 'page' contains a number of links (usually 12) to 'articles'\n",
    " - An 'article' contains ratings\n",
    " \n",
    "Notes:\n",
    " - There are 351 pages, with numbering starting at 1"
   ]
  },
  {
   "cell_type": "markdown",
   "metadata": {},
   "source": [
    "## Part 1 – Scrape the tv-by-the-numbers"
   ]
  },
  {
   "cell_type": "markdown",
   "metadata": {},
   "source": [
    "### Scrape landing pages to find links to articles"
   ]
  },
  {
   "cell_type": "code",
   "execution_count": null,
   "metadata": {},
   "outputs": [],
   "source": [
    "# Searchs for any pages not currently in the database\n",
    "#  and puts them in the database. (~idempotent)\n",
    "# \n",
    "# Safe to re-run\n",
    "# Verbose\n",
    "# On failure:\n",
    "#  - returns latest web call data fetched or processed in a dictionary (for debugging purposes)\n",
    "#  - may raise an error if there is no data to protect\n",
    "error_data = update_pages_database()"
   ]
  },
  {
   "cell_type": "markdown",
   "metadata": {},
   "source": [
    "### Scrape articles to find ratings"
   ]
  },
  {
   "cell_type": "code",
   "execution_count": null,
   "metadata": {
    "scrolled": false
   },
   "outputs": [],
   "source": [
    "error_data = update_articles_database(sleep_time = 0.05, on_fail = 'continue')"
   ]
  },
  {
   "cell_type": "code",
   "execution_count": null,
   "metadata": {},
   "outputs": [],
   "source": [
    "# Some pages (30) were not fetched\n",
    "#  On examination: some are due to parsing errors\n",
    "#                  many are articles not containing data at all\n",
    "to_do = get_missing_articles()"
   ]
  },
  {
   "cell_type": "markdown",
   "metadata": {},
   "source": [
    "Add a primary key to the tv_by_the_numbers articles:"
   ]
  },
  {
   "cell_type": "code",
   "execution_count": null,
   "metadata": {},
   "outputs": [],
   "source": [
    "add_primary_key('tv_by_the_numbers_articles')"
   ]
  },
  {
   "cell_type": "markdown",
   "metadata": {},
   "source": [
    "Post-process the broadcast networks which have weirdly formatted show names"
   ]
  },
  {
   "cell_type": "code",
   "execution_count": null,
   "metadata": {},
   "outputs": [],
   "source": [
    "# Looks for records without a network. Attempts to parse those properly, then writes a new record to the db.\n",
    "#  returns a list of old ids to be deleted\n",
    "def process_broadcast_networks(do_anything = False):\n",
    "    to_alter = query(f'''\n",
    "        SELECT\n",
    "            *\n",
    "        FROM\n",
    "            tv_by_the_numbers_articles\n",
    "        WHERE\n",
    "            network IS NULL\n",
    "    ''')\n",
    "\n",
    "    print(f'{len(to_alter)} bad records found')\n",
    "    \n",
    "    if not do_anything:\n",
    "        return []\n",
    "    broadcast_networks = ['CBS', 'FOX', 'ABC', 'The CW', 'NBC', 'CW', 'NCBS']\n",
    "    pattern = '(.*)' + '\\((' + '|'.join(broadcast_networks) + ')\\).*'\n",
    "    def parse_show(show):\n",
    "        maybe_match = re.match(pattern, show)\n",
    "        if not maybe_match:\n",
    "            out_dict = {'show' : show, 'network' : None}\n",
    "        else:\n",
    "            show = maybe_match.group(1)\n",
    "            net  = maybe_match.group(2)\n",
    "            if net == 'CW':\n",
    "                net = 'The CW'\n",
    "            out_dict = {'show' : show, 'network' : net}\n",
    "            \n",
    "        return pd.Series(out_dict)\n",
    "\n",
    "    fixed = to_alter.show.apply(parse_show)\n",
    "    \n",
    "    to_alter['show'] = fixed.show\n",
    "    to_alter['network'] = fixed.network\n",
    "    \n",
    "    to_alter.dropna(subset = ['network'], inplace = True)\n",
    "    \n",
    "    ids_to_drop = to_alter.table_id.tolist()\n",
    "    fixed = to_alter.drop('table_id', axis = 'columns')\n",
    "    \n",
    "    \n",
    "    \n",
    "    fixed.to_sql('tv_by_the_numbers_articles', db, schema = 'tvshows', if_exists = 'append', index = False)\n",
    "    \n",
    "    return ids_to_drop\n",
    "    try:\n",
    "        query_text = [\n",
    "         'DELETE FROM',\n",
    "         'tv_by_the_numbers_articles',\n",
    "         'WHERE',\n",
    "         'table_id',\n",
    "         'IN',\n",
    "         str(tuple(ids_to_drop))\n",
    "        ]\n",
    "        return '\\n'.join(query_text)\n",
    "    except:\n",
    "        return ids_to_drop\n"
   ]
  },
  {
   "cell_type": "code",
   "execution_count": null,
   "metadata": {},
   "outputs": [],
   "source": [
    "ids_to_drop = process_broadcast_networks()\n",
    "print(f'{len(ids_to_drop)} records in need of dropping')"
   ]
  },
  {
   "cell_type": "code",
   "execution_count": null,
   "metadata": {},
   "outputs": [],
   "source": [
    "# Batch drop old ids\n",
    "fail_count = 0\n",
    "while len(ids_to_drop) > 0:\n",
    "    try:\n",
    "        to_delete = ids_to_drop[:100]\n",
    "        db.execute(f'DELETE FROM tv_by_the_numbers_articles WHERE table_id IN {tuple(to_delete)}')\n",
    "        for table_id in to_delete:\n",
    "            ids_to_drop.remove(table_id)\n",
    "    except:\n",
    "        print(f'failure on ids {ids_to_drop[:100]}')\n",
    "        fail_count = fail_count + 1\n",
    "        if fail_count > 10:\n",
    "            print('aborting')\n",
    "            break\n",
    "        else:\n",
    "            continue"
   ]
  },
  {
   "cell_type": "markdown",
   "metadata": {},
   "source": [
    "## Part 2 – Scrape Rotten Tomatoes"
   ]
  },
  {
   "cell_type": "code",
   "execution_count": 1,
   "metadata": {},
   "outputs": [],
   "source": [
    "from rotten_tomatoes import *"
   ]
  },
  {
   "cell_type": "markdown",
   "metadata": {},
   "source": [
    "### Part A: See which shows can actually be found on rotten tomatoes"
   ]
  },
  {
   "cell_type": "code",
   "execution_count": null,
   "metadata": {},
   "outputs": [],
   "source": [
    "list_of_tv_shows = query_list('s.show', 'tv_by_the_numbers_articles s')"
   ]
  },
  {
   "cell_type": "code",
   "execution_count": null,
   "metadata": {},
   "outputs": [],
   "source": [
    "list_of_urls = find_on_rotten_tomatoes(list_of_tv_shows)"
   ]
  },
  {
   "cell_type": "code",
   "execution_count": null,
   "metadata": {},
   "outputs": [],
   "source": [
    "df = pd.DataFrame.from_records(list_of_urls)"
   ]
  },
  {
   "cell_type": "code",
   "execution_count": null,
   "metadata": {},
   "outputs": [],
   "source": [
    "df.to_sql('rt_urls', db, index = False, if_exists = 'append')\n"
   ]
  },
  {
   "cell_type": "markdown",
   "metadata": {},
   "source": [
    "### Part B: scrape rotten tomatoes"
   ]
  },
  {
   "cell_type": "code",
   "execution_count": null,
   "metadata": {
    "scrolled": false
   },
   "outputs": [],
   "source": [
    "error_data = update_rt_data()"
   ]
  },
  {
   "cell_type": "markdown",
   "metadata": {},
   "source": [
    "# Part 3 — Get data on Amazon and Netflix"
   ]
  },
  {
   "cell_type": "code",
   "execution_count": 21,
   "metadata": {},
   "outputs": [],
   "source": [
    "list_of_tv_shows = query_list('title', 'netflix_amazon_shows')"
   ]
  },
  {
   "cell_type": "code",
   "execution_count": null,
   "metadata": {},
   "outputs": [],
   "source": [
    "list_of_urls = find_on_rotten_tomatoes(list_of_tv_shows)"
   ]
  },
  {
   "cell_type": "code",
   "execution_count": null,
   "metadata": {},
   "outputs": [],
   "source": [
    "print(len(list_of_tv_shows), len(list_of_urls))"
   ]
  },
  {
   "cell_type": "code",
   "execution_count": 26,
   "metadata": {},
   "outputs": [],
   "source": [
    "df = pd.DataFrame.from_records(list_of_urls)"
   ]
  },
  {
   "cell_type": "code",
   "execution_count": null,
   "metadata": {},
   "outputs": [],
   "source": [
    "from datacleaning import list_subtract\n",
    "list_subtract(list_of_tv_shows, df.by_the_numbers_name.tolist())"
   ]
  },
  {
   "cell_type": "code",
   "execution_count": 28,
   "metadata": {},
   "outputs": [],
   "source": [
    "df.to_sql('rt_urls', db, index = False, if_exists = 'append')\n"
   ]
  },
  {
   "cell_type": "code",
   "execution_count": null,
   "metadata": {
    "scrolled": false
   },
   "outputs": [],
   "source": [
    "error_data = update_rt_data()"
   ]
  }
 ],
 "metadata": {
  "kernelspec": {
   "display_name": "Python [conda env:root]",
   "language": "python",
   "name": "conda-root-py"
  },
  "language_info": {
   "codemirror_mode": {
    "name": "ipython",
    "version": 3
   },
   "file_extension": ".py",
   "mimetype": "text/x-python",
   "name": "python",
   "nbconvert_exporter": "python",
   "pygments_lexer": "ipython3",
   "version": "3.7.3"
  }
 },
 "nbformat": 4,
 "nbformat_minor": 2
}
