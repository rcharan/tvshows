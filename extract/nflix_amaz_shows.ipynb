{
 "cells": [
  {
   "cell_type": "code",
   "execution_count": 2,
   "metadata": {},
   "outputs": [],
   "source": [
    "import pandas as pd\n",
    "from tv_by_the_numbers import db"
   ]
  },
  {
   "cell_type": "code",
   "execution_count": 3,
   "metadata": {},
   "outputs": [],
   "source": [
    "df = pd.read_csv('netflix_amazon_shows.csv')"
   ]
  },
  {
   "cell_type": "code",
   "execution_count": 4,
   "metadata": {},
   "outputs": [
    {
     "data": {
      "text/html": [
       "<div>\n",
       "<style scoped>\n",
       "    .dataframe tbody tr th:only-of-type {\n",
       "        vertical-align: middle;\n",
       "    }\n",
       "\n",
       "    .dataframe tbody tr th {\n",
       "        vertical-align: top;\n",
       "    }\n",
       "\n",
       "    .dataframe thead th {\n",
       "        text-align: right;\n",
       "    }\n",
       "</style>\n",
       "<table border=\"1\" class=\"dataframe\">\n",
       "  <thead>\n",
       "    <tr style=\"text-align: right;\">\n",
       "      <th></th>\n",
       "      <th>title</th>\n",
       "      <th>genre</th>\n",
       "      <th>premiere_date</th>\n",
       "      <th>network</th>\n",
       "    </tr>\n",
       "  </thead>\n",
       "  <tbody>\n",
       "    <tr>\n",
       "      <td>0</td>\n",
       "      <td>Bosch</td>\n",
       "      <td>Detective fiction</td>\n",
       "      <td>13-Feb-15</td>\n",
       "      <td>Amazon</td>\n",
       "    </tr>\n",
       "    <tr>\n",
       "      <td>1</td>\n",
       "      <td>Hand of God</td>\n",
       "      <td>Psychological thriller</td>\n",
       "      <td>4-Sep-15</td>\n",
       "      <td>Amazon</td>\n",
       "    </tr>\n",
       "    <tr>\n",
       "      <td>2</td>\n",
       "      <td>The Man in the High Castle</td>\n",
       "      <td>Alternative history</td>\n",
       "      <td>20-Nov-15</td>\n",
       "      <td>Amazon</td>\n",
       "    </tr>\n",
       "    <tr>\n",
       "      <td>3</td>\n",
       "      <td>Mad Dogs</td>\n",
       "      <td>Drama</td>\n",
       "      <td>22-Jan-16</td>\n",
       "      <td>Amazon</td>\n",
       "    </tr>\n",
       "    <tr>\n",
       "      <td>4</td>\n",
       "      <td>Goliath</td>\n",
       "      <td>Legal drama</td>\n",
       "      <td>14-Oct-16</td>\n",
       "      <td>Amazon</td>\n",
       "    </tr>\n",
       "    <tr>\n",
       "      <td>...</td>\n",
       "      <td>...</td>\n",
       "      <td>...</td>\n",
       "      <td>...</td>\n",
       "      <td>...</td>\n",
       "    </tr>\n",
       "    <tr>\n",
       "      <td>322</td>\n",
       "      <td>Busted!</td>\n",
       "      <td>Korean language variety show</td>\n",
       "      <td>4-May-18</td>\n",
       "      <td>Netflix</td>\n",
       "    </tr>\n",
       "    <tr>\n",
       "      <td>323</td>\n",
       "      <td>The Break with Michelle Wolf</td>\n",
       "      <td>Late-night</td>\n",
       "      <td>27-May-18</td>\n",
       "      <td>Netflix</td>\n",
       "    </tr>\n",
       "    <tr>\n",
       "      <td>324</td>\n",
       "      <td>Norm Macdonald Has a Show</td>\n",
       "      <td>Talk show</td>\n",
       "      <td>14-Sep-18</td>\n",
       "      <td>Netflix</td>\n",
       "    </tr>\n",
       "    <tr>\n",
       "      <td>325</td>\n",
       "      <td>Patriot Act with Hasan Minhaj</td>\n",
       "      <td>Talk show</td>\n",
       "      <td>28-Oct-18</td>\n",
       "      <td>Netflix</td>\n",
       "    </tr>\n",
       "    <tr>\n",
       "      <td>326</td>\n",
       "      <td>The Fix</td>\n",
       "      <td>Panel show</td>\n",
       "      <td>14-Dec-18</td>\n",
       "      <td>Netflix</td>\n",
       "    </tr>\n",
       "  </tbody>\n",
       "</table>\n",
       "<p>327 rows × 4 columns</p>\n",
       "</div>"
      ],
      "text/plain": [
       "                             title                         genre  \\\n",
       "0                            Bosch             Detective fiction   \n",
       "1                      Hand of God        Psychological thriller   \n",
       "2       The Man in the High Castle           Alternative history   \n",
       "3                         Mad Dogs                         Drama   \n",
       "4                          Goliath                   Legal drama   \n",
       "..                             ...                           ...   \n",
       "322                        Busted!  Korean language variety show   \n",
       "323   The Break with Michelle Wolf                    Late-night   \n",
       "324      Norm Macdonald Has a Show                     Talk show   \n",
       "325  Patriot Act with Hasan Minhaj                     Talk show   \n",
       "326                        The Fix                    Panel show   \n",
       "\n",
       "    premiere_date  network  \n",
       "0       13-Feb-15   Amazon  \n",
       "1        4-Sep-15   Amazon  \n",
       "2       20-Nov-15   Amazon  \n",
       "3       22-Jan-16   Amazon  \n",
       "4       14-Oct-16   Amazon  \n",
       "..            ...      ...  \n",
       "322      4-May-18  Netflix  \n",
       "323     27-May-18  Netflix  \n",
       "324     14-Sep-18  Netflix  \n",
       "325     28-Oct-18  Netflix  \n",
       "326     14-Dec-18  Netflix  \n",
       "\n",
       "[327 rows x 4 columns]"
      ]
     },
     "execution_count": 4,
     "metadata": {},
     "output_type": "execute_result"
    }
   ],
   "source": [
    "df"
   ]
  },
  {
   "cell_type": "code",
   "execution_count": 4,
   "metadata": {},
   "outputs": [
    {
     "data": {
      "text/plain": [
       "Index(['title', 'genre', 'premiere_date', 'network'], dtype='object')"
      ]
     },
     "execution_count": 4,
     "metadata": {},
     "output_type": "execute_result"
    }
   ],
   "source": [
    "df.columns"
   ]
  },
  {
   "cell_type": "code",
   "execution_count": 6,
   "metadata": {},
   "outputs": [],
   "source": [
    "df.to_sql('netflix_amazon_shows', db, index = False, if_exists = 'append')"
   ]
  },
  {
   "cell_type": "markdown",
   "metadata": {},
   "source": [
    "Go somewhere and do the parsing"
   ]
  },
  {
   "cell_type": "markdown",
   "metadata": {},
   "source": [
    "Later, seperate the two tables"
   ]
  },
  {
   "cell_type": "code",
   "execution_count": 10,
   "metadata": {},
   "outputs": [],
   "source": [
    "# db.execute('''DROP TABLE IF EXISTS netflix_amazon_shows''')\n",
    "move_list = str(tuple(df.title.tolist()))\n",
    "# db.execute('''CREATE TABLE amazon_netflix_shows SELECT * FROM rt_urls WHERE by_the_numbers_name IN''' + move_list)\n",
    "# db.execute('''DELETE FROM rt_urls WHERE by_the_numbers_name IN ''' + move_list)"
   ]
  },
  {
   "cell_type": "code",
   "execution_count": null,
   "metadata": {
    "scrolled": false
   },
   "outputs": [],
   "source": [
    "tuple(df.title.tolist())"
   ]
  }
 ],
 "metadata": {
  "kernelspec": {
   "display_name": "Python 3",
   "language": "python",
   "name": "python3"
  },
  "language_info": {
   "codemirror_mode": {
    "name": "ipython",
    "version": 3
   },
   "file_extension": ".py",
   "mimetype": "text/x-python",
   "name": "python",
   "nbconvert_exporter": "python",
   "pygments_lexer": "ipython3",
   "version": "3.6.6"
  }
 },
 "nbformat": 4,
 "nbformat_minor": 2
}
