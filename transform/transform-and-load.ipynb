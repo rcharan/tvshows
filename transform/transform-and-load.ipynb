{
 "cells": [
  {
   "cell_type": "code",
   "execution_count": 40,
   "metadata": {},
   "outputs": [],
   "source": [
    "import sys\n",
    "sys.path.append('..')\n",
    "from db import *\n",
    "import re\n",
    "import numpy as np\n",
    "import dateparser"
   ]
  },
  {
   "cell_type": "code",
   "execution_count": 41,
   "metadata": {},
   "outputs": [],
   "source": [
    "pd.set_option('display.max_columns', 100)"
   ]
  },
  {
   "cell_type": "markdown",
   "metadata": {},
   "source": [
    "## Load the RT data"
   ]
  },
  {
   "cell_type": "code",
   "execution_count": 42,
   "metadata": {
    "scrolled": true
   },
   "outputs": [],
   "source": [
    "rt_data = query('SELECT * FROM rt_data')"
   ]
  },
  {
   "cell_type": "code",
   "execution_count": 43,
   "metadata": {},
   "outputs": [
    {
     "data": {
      "text/html": [
       "<div>\n",
       "<style scoped>\n",
       "    .dataframe tbody tr th:only-of-type {\n",
       "        vertical-align: middle;\n",
       "    }\n",
       "\n",
       "    .dataframe tbody tr th {\n",
       "        vertical-align: top;\n",
       "    }\n",
       "\n",
       "    .dataframe thead th {\n",
       "        text-align: right;\n",
       "    }\n",
       "</style>\n",
       "<table border=\"1\" class=\"dataframe\">\n",
       "  <thead>\n",
       "    <tr style=\"text-align: right;\">\n",
       "      <th></th>\n",
       "      <th>url</th>\n",
       "      <th>title</th>\n",
       "      <th>critic_rating</th>\n",
       "      <th>audience_rating</th>\n",
       "      <th>network</th>\n",
       "      <th>premiere_date</th>\n",
       "      <th>genre</th>\n",
       "      <th>executive_producers</th>\n",
       "    </tr>\n",
       "  </thead>\n",
       "  <tbody>\n",
       "    <tr>\n",
       "      <td>0</td>\n",
       "      <td>https://www.rottentomatoes.com/tv/live_pd</td>\n",
       "      <td>Live PD</td>\n",
       "      <td>None</td>\n",
       "      <td>75</td>\n",
       "      <td>A&amp;E Network</td>\n",
       "      <td>None</td>\n",
       "      <td>Special Interest</td>\n",
       "      <td>['Dan Cesareo', 'David Doss', 'George McTeague...</td>\n",
       "    </tr>\n",
       "    <tr>\n",
       "      <td>1</td>\n",
       "      <td>https://www.rottentomatoes.com/tv/black_jesus</td>\n",
       "      <td>Black Jesus</td>\n",
       "      <td>None</td>\n",
       "      <td>70</td>\n",
       "      <td>Cartoon Network</td>\n",
       "      <td>None</td>\n",
       "      <td>None</td>\n",
       "      <td>['Aaron McGruder', 'Mike Clattenburg', 'Norman...</td>\n",
       "    </tr>\n",
       "    <tr>\n",
       "      <td>2</td>\n",
       "      <td>https://www.rottentomatoes.com/tv/love_after_l...</td>\n",
       "      <td>Love After Lockup</td>\n",
       "      <td>None</td>\n",
       "      <td>None</td>\n",
       "      <td>WE tv</td>\n",
       "      <td>Jan 12, 2018</td>\n",
       "      <td>Documentary</td>\n",
       "      <td>['Matt Sharp', 'Dan Adler', 'Lauren P. Gellert...</td>\n",
       "    </tr>\n",
       "    <tr>\n",
       "      <td>3</td>\n",
       "      <td>https://www.rottentomatoes.com/tv/z_nation</td>\n",
       "      <td>Z Nation</td>\n",
       "      <td>None</td>\n",
       "      <td>79</td>\n",
       "      <td>SyFy</td>\n",
       "      <td>Sep 12, 2014</td>\n",
       "      <td>Action &amp; Adventure</td>\n",
       "      <td>['Karl Schaefer', 'David Michael Latt', 'John ...</td>\n",
       "    </tr>\n",
       "    <tr>\n",
       "      <td>4</td>\n",
       "      <td>https://www.rottentomatoes.com/tv/timeline</td>\n",
       "      <td>Timeline</td>\n",
       "      <td>None</td>\n",
       "      <td>None</td>\n",
       "      <td>Hulu</td>\n",
       "      <td>None</td>\n",
       "      <td>None</td>\n",
       "      <td>None</td>\n",
       "    </tr>\n",
       "  </tbody>\n",
       "</table>\n",
       "</div>"
      ],
      "text/plain": [
       "                                                 url              title  \\\n",
       "0          https://www.rottentomatoes.com/tv/live_pd            Live PD   \n",
       "1      https://www.rottentomatoes.com/tv/black_jesus        Black Jesus   \n",
       "2  https://www.rottentomatoes.com/tv/love_after_l...  Love After Lockup   \n",
       "3         https://www.rottentomatoes.com/tv/z_nation           Z Nation   \n",
       "4         https://www.rottentomatoes.com/tv/timeline           Timeline   \n",
       "\n",
       "  critic_rating audience_rating          network premiere_date  \\\n",
       "0          None              75      A&E Network          None   \n",
       "1          None              70  Cartoon Network          None   \n",
       "2          None            None            WE tv  Jan 12, 2018   \n",
       "3          None              79             SyFy  Sep 12, 2014   \n",
       "4          None            None             Hulu          None   \n",
       "\n",
       "                genre                                executive_producers  \n",
       "0    Special Interest  ['Dan Cesareo', 'David Doss', 'George McTeague...  \n",
       "1                None  ['Aaron McGruder', 'Mike Clattenburg', 'Norman...  \n",
       "2         Documentary  ['Matt Sharp', 'Dan Adler', 'Lauren P. Gellert...  \n",
       "3  Action & Adventure  ['Karl Schaefer', 'David Michael Latt', 'John ...  \n",
       "4                None                                               None  "
      ]
     },
     "execution_count": 43,
     "metadata": {},
     "output_type": "execute_result"
    }
   ],
   "source": [
    "rt_data.head()"
   ]
  },
  {
   "cell_type": "markdown",
   "metadata": {},
   "source": [
    "## Create the Streaming Table"
   ]
  },
  {
   "cell_type": "markdown",
   "metadata": {},
   "source": [
    "### Key conversion table"
   ]
  },
  {
   "cell_type": "code",
   "execution_count": 44,
   "metadata": {},
   "outputs": [],
   "source": [
    "streaming_urls = query('SELECT * FROM amazon_netflix_rt_urls')"
   ]
  },
  {
   "cell_type": "code",
   "execution_count": 45,
   "metadata": {},
   "outputs": [],
   "source": [
    "streaming_urls.rename({'by_the_numbers_name' : 'title'}, inplace = True, axis = 'columns')"
   ]
  },
  {
   "cell_type": "code",
   "execution_count": 46,
   "metadata": {},
   "outputs": [
    {
     "data": {
      "text/html": [
       "<div>\n",
       "<style scoped>\n",
       "    .dataframe tbody tr th:only-of-type {\n",
       "        vertical-align: middle;\n",
       "    }\n",
       "\n",
       "    .dataframe tbody tr th {\n",
       "        vertical-align: top;\n",
       "    }\n",
       "\n",
       "    .dataframe thead th {\n",
       "        text-align: right;\n",
       "    }\n",
       "</style>\n",
       "<table border=\"1\" class=\"dataframe\">\n",
       "  <thead>\n",
       "    <tr style=\"text-align: right;\">\n",
       "      <th></th>\n",
       "      <th>title</th>\n",
       "      <th>rt_name</th>\n",
       "      <th>url</th>\n",
       "    </tr>\n",
       "  </thead>\n",
       "  <tbody>\n",
       "    <tr>\n",
       "      <td>0</td>\n",
       "      <td>Bosch</td>\n",
       "      <td>bosch</td>\n",
       "      <td>https://www.rottentomatoes.com/tv/bosch</td>\n",
       "    </tr>\n",
       "    <tr>\n",
       "      <td>1</td>\n",
       "      <td>Hand of God</td>\n",
       "      <td>hand_of_god</td>\n",
       "      <td>https://www.rottentomatoes.com/tv/hand_of_god</td>\n",
       "    </tr>\n",
       "    <tr>\n",
       "      <td>2</td>\n",
       "      <td>The Man in the High Castle</td>\n",
       "      <td>the_man_in_the_high_castle</td>\n",
       "      <td>https://www.rottentomatoes.com/tv/the_man_in_t...</td>\n",
       "    </tr>\n",
       "    <tr>\n",
       "      <td>3</td>\n",
       "      <td>Mad Dogs</td>\n",
       "      <td>mad_dogs</td>\n",
       "      <td>https://www.rottentomatoes.com/tv/mad_dogs</td>\n",
       "    </tr>\n",
       "    <tr>\n",
       "      <td>4</td>\n",
       "      <td>Goliath</td>\n",
       "      <td>goliath</td>\n",
       "      <td>https://www.rottentomatoes.com/tv/goliath</td>\n",
       "    </tr>\n",
       "  </tbody>\n",
       "</table>\n",
       "</div>"
      ],
      "text/plain": [
       "                        title                     rt_name  \\\n",
       "0                       Bosch                       bosch   \n",
       "1                 Hand of God                 hand_of_god   \n",
       "2  The Man in the High Castle  the_man_in_the_high_castle   \n",
       "3                    Mad Dogs                    mad_dogs   \n",
       "4                     Goliath                     goliath   \n",
       "\n",
       "                                                 url  \n",
       "0            https://www.rottentomatoes.com/tv/bosch  \n",
       "1      https://www.rottentomatoes.com/tv/hand_of_god  \n",
       "2  https://www.rottentomatoes.com/tv/the_man_in_t...  \n",
       "3         https://www.rottentomatoes.com/tv/mad_dogs  \n",
       "4          https://www.rottentomatoes.com/tv/goliath  "
      ]
     },
     "execution_count": 46,
     "metadata": {},
     "output_type": "execute_result"
    }
   ],
   "source": [
    "streaming_urls.head()"
   ]
  },
  {
   "cell_type": "markdown",
   "metadata": {},
   "source": [
    "### List of Streaming Shows"
   ]
  },
  {
   "cell_type": "code",
   "execution_count": 47,
   "metadata": {},
   "outputs": [],
   "source": [
    "streaming_shows = query('SELECT * FROM netflix_amazon_shows')"
   ]
  },
  {
   "cell_type": "code",
   "execution_count": 48,
   "metadata": {},
   "outputs": [
    {
     "data": {
      "text/html": [
       "<div>\n",
       "<style scoped>\n",
       "    .dataframe tbody tr th:only-of-type {\n",
       "        vertical-align: middle;\n",
       "    }\n",
       "\n",
       "    .dataframe tbody tr th {\n",
       "        vertical-align: top;\n",
       "    }\n",
       "\n",
       "    .dataframe thead th {\n",
       "        text-align: right;\n",
       "    }\n",
       "</style>\n",
       "<table border=\"1\" class=\"dataframe\">\n",
       "  <thead>\n",
       "    <tr style=\"text-align: right;\">\n",
       "      <th></th>\n",
       "      <th>title</th>\n",
       "      <th>genre</th>\n",
       "      <th>premiere_date</th>\n",
       "      <th>network</th>\n",
       "    </tr>\n",
       "  </thead>\n",
       "  <tbody>\n",
       "    <tr>\n",
       "      <td>0</td>\n",
       "      <td>Bosch</td>\n",
       "      <td>Detective fiction</td>\n",
       "      <td>13-Feb-15</td>\n",
       "      <td>Amazon</td>\n",
       "    </tr>\n",
       "    <tr>\n",
       "      <td>1</td>\n",
       "      <td>Hand of God</td>\n",
       "      <td>Psychological thriller</td>\n",
       "      <td>4-Sep-15</td>\n",
       "      <td>Amazon</td>\n",
       "    </tr>\n",
       "    <tr>\n",
       "      <td>2</td>\n",
       "      <td>The Man in the High Castle</td>\n",
       "      <td>Alternative history</td>\n",
       "      <td>20-Nov-15</td>\n",
       "      <td>Amazon</td>\n",
       "    </tr>\n",
       "    <tr>\n",
       "      <td>3</td>\n",
       "      <td>Mad Dogs</td>\n",
       "      <td>Drama</td>\n",
       "      <td>22-Jan-16</td>\n",
       "      <td>Amazon</td>\n",
       "    </tr>\n",
       "    <tr>\n",
       "      <td>4</td>\n",
       "      <td>Goliath</td>\n",
       "      <td>Legal drama</td>\n",
       "      <td>14-Oct-16</td>\n",
       "      <td>Amazon</td>\n",
       "    </tr>\n",
       "  </tbody>\n",
       "</table>\n",
       "</div>"
      ],
      "text/plain": [
       "                        title                   genre premiere_date network\n",
       "0                       Bosch       Detective fiction     13-Feb-15  Amazon\n",
       "1                 Hand of God  Psychological thriller      4-Sep-15  Amazon\n",
       "2  The Man in the High Castle     Alternative history     20-Nov-15  Amazon\n",
       "3                    Mad Dogs                   Drama     22-Jan-16  Amazon\n",
       "4                     Goliath             Legal drama     14-Oct-16  Amazon"
      ]
     },
     "execution_count": 48,
     "metadata": {},
     "output_type": "execute_result"
    }
   ],
   "source": [
    "streaming_shows.head()"
   ]
  },
  {
   "cell_type": "markdown",
   "metadata": {},
   "source": [
    "### Perform the Merge"
   ]
  },
  {
   "cell_type": "code",
   "execution_count": 49,
   "metadata": {},
   "outputs": [],
   "source": [
    "temp_df      = rt_data.merge(streaming_urls,  on = 'url',                                      suffixes = ('_rt', '_streaming'), validate = '1:1')\n",
    "streaming_df = temp_df.merge(streaming_shows, left_on = 'title_streaming', right_on = 'title', suffixes = ('_rt', '_streaming'), validate = '1:1')"
   ]
  },
  {
   "cell_type": "code",
   "execution_count": 50,
   "metadata": {},
   "outputs": [
    {
     "data": {
      "text/html": [
       "<div>\n",
       "<style scoped>\n",
       "    .dataframe tbody tr th:only-of-type {\n",
       "        vertical-align: middle;\n",
       "    }\n",
       "\n",
       "    .dataframe tbody tr th {\n",
       "        vertical-align: top;\n",
       "    }\n",
       "\n",
       "    .dataframe thead th {\n",
       "        text-align: right;\n",
       "    }\n",
       "</style>\n",
       "<table border=\"1\" class=\"dataframe\">\n",
       "  <thead>\n",
       "    <tr style=\"text-align: right;\">\n",
       "      <th></th>\n",
       "      <th>url</th>\n",
       "      <th>title_rt</th>\n",
       "      <th>critic_rating</th>\n",
       "      <th>audience_rating</th>\n",
       "      <th>network_rt</th>\n",
       "      <th>premiere_date_rt</th>\n",
       "      <th>genre_rt</th>\n",
       "      <th>executive_producers</th>\n",
       "      <th>title_streaming</th>\n",
       "      <th>rt_name</th>\n",
       "      <th>title</th>\n",
       "      <th>genre_streaming</th>\n",
       "      <th>premiere_date_streaming</th>\n",
       "      <th>network_streaming</th>\n",
       "    </tr>\n",
       "  </thead>\n",
       "  <tbody>\n",
       "    <tr>\n",
       "      <td>0</td>\n",
       "      <td>https://www.rottentomatoes.com/tv/bloodline</td>\n",
       "      <td>Bloodline</td>\n",
       "      <td>62</td>\n",
       "      <td>76</td>\n",
       "      <td>Netflix</td>\n",
       "      <td>Mar 20, 2015</td>\n",
       "      <td>Drama</td>\n",
       "      <td>['Todd A. Kessler', 'Daniel Zelman', 'Glenn Ke...</td>\n",
       "      <td>Bloodline</td>\n",
       "      <td>bloodline</td>\n",
       "      <td>Bloodline</td>\n",
       "      <td>Thriller</td>\n",
       "      <td>20-Mar-15</td>\n",
       "      <td>Netflix</td>\n",
       "    </tr>\n",
       "    <tr>\n",
       "      <td>1</td>\n",
       "      <td>https://www.rottentomatoes.com/tv/the_ranch</td>\n",
       "      <td>The Ranch</td>\n",
       "      <td>63</td>\n",
       "      <td>73</td>\n",
       "      <td>Netflix</td>\n",
       "      <td>Apr 1, 2016</td>\n",
       "      <td>Comedy</td>\n",
       "      <td>['Don Reo', 'Jim Patterson']</td>\n",
       "      <td>The Ranch</td>\n",
       "      <td>the_ranch</td>\n",
       "      <td>The Ranch</td>\n",
       "      <td>Sitcom</td>\n",
       "      <td>1-Apr-16</td>\n",
       "      <td>Netflix</td>\n",
       "    </tr>\n",
       "    <tr>\n",
       "      <td>2</td>\n",
       "      <td>https://www.rottentomatoes.com/tv/good_girls_r...</td>\n",
       "      <td>Good Girls Revolt</td>\n",
       "      <td>73</td>\n",
       "      <td>97</td>\n",
       "      <td>Amazon</td>\n",
       "      <td>Nov 4, 2015</td>\n",
       "      <td>Drama</td>\n",
       "      <td>['Dana Calvo', 'Lynda Obst', 'Darlene Hunt', '...</td>\n",
       "      <td>Good Girls Revolt</td>\n",
       "      <td>good_girls_revolt</td>\n",
       "      <td>Good Girls Revolt</td>\n",
       "      <td>Historical period drama</td>\n",
       "      <td>28-Oct-16</td>\n",
       "      <td>Amazon</td>\n",
       "    </tr>\n",
       "    <tr>\n",
       "      <td>3</td>\n",
       "      <td>https://www.rottentomatoes.com/tv/the_mind_exp...</td>\n",
       "      <td>The Mind, Explained</td>\n",
       "      <td>None</td>\n",
       "      <td>100</td>\n",
       "      <td>Netflix</td>\n",
       "      <td>Sep 12, 2019</td>\n",
       "      <td>Documentary</td>\n",
       "      <td>None</td>\n",
       "      <td>The Mind, Explained</td>\n",
       "      <td>the_mind_explained</td>\n",
       "      <td>The Mind, Explained</td>\n",
       "      <td>Docu-series</td>\n",
       "      <td>12-Sep-19</td>\n",
       "      <td>Netflix</td>\n",
       "    </tr>\n",
       "    <tr>\n",
       "      <td>4</td>\n",
       "      <td>https://www.rottentomatoes.com/tv/bonding</td>\n",
       "      <td>Bonding</td>\n",
       "      <td>64</td>\n",
       "      <td>78</td>\n",
       "      <td>Netflix</td>\n",
       "      <td>Apr 24, 2019</td>\n",
       "      <td>Comedy</td>\n",
       "      <td>['Rightor Doyle', 'Jacob Perlin', 'Nina Sorian...</td>\n",
       "      <td>Bonding</td>\n",
       "      <td>bonding</td>\n",
       "      <td>Bonding</td>\n",
       "      <td>Dark comedy</td>\n",
       "      <td>24-Apr-19</td>\n",
       "      <td>Netflix</td>\n",
       "    </tr>\n",
       "  </tbody>\n",
       "</table>\n",
       "</div>"
      ],
      "text/plain": [
       "                                                 url             title_rt  \\\n",
       "0        https://www.rottentomatoes.com/tv/bloodline            Bloodline   \n",
       "1        https://www.rottentomatoes.com/tv/the_ranch            The Ranch   \n",
       "2  https://www.rottentomatoes.com/tv/good_girls_r...    Good Girls Revolt   \n",
       "3  https://www.rottentomatoes.com/tv/the_mind_exp...  The Mind, Explained   \n",
       "4          https://www.rottentomatoes.com/tv/bonding              Bonding   \n",
       "\n",
       "  critic_rating audience_rating network_rt premiere_date_rt     genre_rt  \\\n",
       "0            62              76    Netflix     Mar 20, 2015        Drama   \n",
       "1            63              73    Netflix      Apr 1, 2016       Comedy   \n",
       "2            73              97     Amazon      Nov 4, 2015        Drama   \n",
       "3          None             100    Netflix     Sep 12, 2019  Documentary   \n",
       "4            64              78    Netflix     Apr 24, 2019       Comedy   \n",
       "\n",
       "                                 executive_producers      title_streaming  \\\n",
       "0  ['Todd A. Kessler', 'Daniel Zelman', 'Glenn Ke...            Bloodline   \n",
       "1                       ['Don Reo', 'Jim Patterson']            The Ranch   \n",
       "2  ['Dana Calvo', 'Lynda Obst', 'Darlene Hunt', '...    Good Girls Revolt   \n",
       "3                                               None  The Mind, Explained   \n",
       "4  ['Rightor Doyle', 'Jacob Perlin', 'Nina Sorian...              Bonding   \n",
       "\n",
       "              rt_name                title          genre_streaming  \\\n",
       "0           bloodline            Bloodline                 Thriller   \n",
       "1           the_ranch            The Ranch                   Sitcom   \n",
       "2   good_girls_revolt    Good Girls Revolt  Historical period drama   \n",
       "3  the_mind_explained  The Mind, Explained              Docu-series   \n",
       "4             bonding              Bonding              Dark comedy   \n",
       "\n",
       "  premiere_date_streaming network_streaming  \n",
       "0               20-Mar-15           Netflix  \n",
       "1                1-Apr-16           Netflix  \n",
       "2               28-Oct-16            Amazon  \n",
       "3               12-Sep-19           Netflix  \n",
       "4               24-Apr-19           Netflix  "
      ]
     },
     "execution_count": 50,
     "metadata": {},
     "output_type": "execute_result"
    }
   ],
   "source": [
    "streaming_df.head()"
   ]
  },
  {
   "cell_type": "code",
   "execution_count": 51,
   "metadata": {},
   "outputs": [
    {
     "name": "stdout",
     "output_type": "stream",
     "text": [
      "<class 'pandas.core.frame.DataFrame'>\n",
      "Int64Index: 264 entries, 0 to 263\n",
      "Data columns (total 14 columns):\n",
      "url                        264 non-null object\n",
      "title_rt                   264 non-null object\n",
      "critic_rating              166 non-null object\n",
      "audience_rating            239 non-null object\n",
      "network_rt                 264 non-null object\n",
      "premiere_date_rt           254 non-null object\n",
      "genre_rt                   249 non-null object\n",
      "executive_producers        161 non-null object\n",
      "title_streaming            264 non-null object\n",
      "rt_name                    264 non-null object\n",
      "title                      264 non-null object\n",
      "genre_streaming            264 non-null object\n",
      "premiere_date_streaming    264 non-null object\n",
      "network_streaming          264 non-null object\n",
      "dtypes: object(14)\n",
      "memory usage: 30.9+ KB\n"
     ]
    }
   ],
   "source": [
    "streaming_df.info()"
   ]
  },
  {
   "cell_type": "code",
   "execution_count": 53,
   "metadata": {},
   "outputs": [],
   "source": [
    "streaming_df.rename({'premiere_date_streaming' : 'premiere_date',\n",
    "                     'genre_rt' : 'genre',\n",
    "                     'network_streaming' : 'network',\n",
    "                     'rt_name'           : 'rt_id'\n",
    "                    }, inplace = True, axis = 'columns')"
   ]
  },
  {
   "cell_type": "code",
   "execution_count": 54,
   "metadata": {},
   "outputs": [],
   "source": [
    "streaming_df['premiere_date'] = pd.to_datetime(streaming_df.premiere_date)"
   ]
  },
  {
   "cell_type": "code",
   "execution_count": 55,
   "metadata": {},
   "outputs": [],
   "source": [
    "streaming_df['critic_rating'] = streaming_df.critic_rating.astype(float)\n",
    "streaming_df['audience_rating'] = streaming_df.audience_rating.astype(float)"
   ]
  },
  {
   "cell_type": "code",
   "execution_count": 59,
   "metadata": {},
   "outputs": [],
   "source": [
    "streaming_df_clean = streaming_df[['rt_id', 'title', 'critic_rating', 'audience_rating', 'network',  'genre', 'executive_producers', 'premiere_date']]"
   ]
  },
  {
   "cell_type": "code",
   "execution_count": 60,
   "metadata": {},
   "outputs": [
    {
     "name": "stdout",
     "output_type": "stream",
     "text": [
      "<class 'pandas.core.frame.DataFrame'>\n",
      "Int64Index: 264 entries, 0 to 263\n",
      "Data columns (total 8 columns):\n",
      "rt_id                  264 non-null object\n",
      "title                  264 non-null object\n",
      "critic_rating          166 non-null float64\n",
      "audience_rating        239 non-null float64\n",
      "network                264 non-null object\n",
      "genre                  249 non-null object\n",
      "executive_producers    161 non-null object\n",
      "premiere_date          264 non-null datetime64[ns]\n",
      "dtypes: datetime64[ns](1), float64(2), object(5)\n",
      "memory usage: 18.6+ KB\n"
     ]
    }
   ],
   "source": [
    "streaming_df_clean.info()"
   ]
  },
  {
   "cell_type": "code",
   "execution_count": 61,
   "metadata": {},
   "outputs": [],
   "source": [
    "# Change if_exists to 'replace' to actually make changes\n",
    "#  leave as 'fail' to make this safe to re-run\n",
    "streaming_df_clean.to_sql('streaming', db, if_exists = 'replace', index = False)"
   ]
  },
  {
   "cell_type": "markdown",
   "metadata": {},
   "source": [
    "## Create the Nielsen Table"
   ]
  },
  {
   "cell_type": "markdown",
   "metadata": {},
   "source": [
    "### Load Key Conversion Table"
   ]
  },
  {
   "cell_type": "code",
   "execution_count": 19,
   "metadata": {},
   "outputs": [],
   "source": [
    "nielsen_urls = query('SELECT * FROM rt_urls')"
   ]
  },
  {
   "cell_type": "code",
   "execution_count": 20,
   "metadata": {},
   "outputs": [],
   "source": [
    "nielsen_urls.rename({'rt_name' : 'rt_id'}, inplace = True, axis = 'columns')"
   ]
  },
  {
   "cell_type": "code",
   "execution_count": 21,
   "metadata": {},
   "outputs": [
    {
     "data": {
      "text/html": [
       "<div>\n",
       "<style scoped>\n",
       "    .dataframe tbody tr th:only-of-type {\n",
       "        vertical-align: middle;\n",
       "    }\n",
       "\n",
       "    .dataframe tbody tr th {\n",
       "        vertical-align: top;\n",
       "    }\n",
       "\n",
       "    .dataframe thead th {\n",
       "        text-align: right;\n",
       "    }\n",
       "</style>\n",
       "<table border=\"1\" class=\"dataframe\">\n",
       "  <thead>\n",
       "    <tr style=\"text-align: right;\">\n",
       "      <th></th>\n",
       "      <th>by_the_numbers_name</th>\n",
       "      <th>rt_id</th>\n",
       "      <th>url</th>\n",
       "    </tr>\n",
       "  </thead>\n",
       "  <tbody>\n",
       "    <tr>\n",
       "      <td>0</td>\n",
       "      <td>LIVE PD</td>\n",
       "      <td>live_pd</td>\n",
       "      <td>https://www.rottentomatoes.com/tv/live_pd</td>\n",
       "    </tr>\n",
       "    <tr>\n",
       "      <td>1</td>\n",
       "      <td>BLACK JESUS</td>\n",
       "      <td>black_jesus</td>\n",
       "      <td>https://www.rottentomatoes.com/tv/black_jesus</td>\n",
       "    </tr>\n",
       "    <tr>\n",
       "      <td>2</td>\n",
       "      <td>LOVE AFTER LOCKUP</td>\n",
       "      <td>love_after_lockup</td>\n",
       "      <td>https://www.rottentomatoes.com/tv/love_after_l...</td>\n",
       "    </tr>\n",
       "    <tr>\n",
       "      <td>3</td>\n",
       "      <td>REAL TIME WITH BILL MAHER</td>\n",
       "      <td>real_time_with_bill_maher</td>\n",
       "      <td>https://www.rottentomatoes.com/tv/real_time_wi...</td>\n",
       "    </tr>\n",
       "    <tr>\n",
       "      <td>4</td>\n",
       "      <td>MOM</td>\n",
       "      <td>mom</td>\n",
       "      <td>https://www.rottentomatoes.com/tv/mom</td>\n",
       "    </tr>\n",
       "  </tbody>\n",
       "</table>\n",
       "</div>"
      ],
      "text/plain": [
       "         by_the_numbers_name                      rt_id  \\\n",
       "0                    LIVE PD                    live_pd   \n",
       "1                BLACK JESUS                black_jesus   \n",
       "2          LOVE AFTER LOCKUP          love_after_lockup   \n",
       "3  REAL TIME WITH BILL MAHER  real_time_with_bill_maher   \n",
       "4                        MOM                        mom   \n",
       "\n",
       "                                                 url  \n",
       "0          https://www.rottentomatoes.com/tv/live_pd  \n",
       "1      https://www.rottentomatoes.com/tv/black_jesus  \n",
       "2  https://www.rottentomatoes.com/tv/love_after_l...  \n",
       "3  https://www.rottentomatoes.com/tv/real_time_wi...  \n",
       "4              https://www.rottentomatoes.com/tv/mom  "
      ]
     },
     "execution_count": 21,
     "metadata": {},
     "output_type": "execute_result"
    }
   ],
   "source": [
    "nielsen_urls.head()"
   ]
  },
  {
   "cell_type": "markdown",
   "metadata": {},
   "source": [
    "### Load the Nielsen Data"
   ]
  },
  {
   "cell_type": "code",
   "execution_count": 22,
   "metadata": {},
   "outputs": [],
   "source": [
    "nielsen_data = query('SELECT * FROM tv_by_the_numbers_articles')"
   ]
  },
  {
   "cell_type": "code",
   "execution_count": 23,
   "metadata": {},
   "outputs": [
    {
     "data": {
      "text/html": [
       "<div>\n",
       "<style scoped>\n",
       "    .dataframe tbody tr th:only-of-type {\n",
       "        vertical-align: middle;\n",
       "    }\n",
       "\n",
       "    .dataframe tbody tr th {\n",
       "        vertical-align: top;\n",
       "    }\n",
       "\n",
       "    .dataframe thead th {\n",
       "        text-align: right;\n",
       "    }\n",
       "</style>\n",
       "<table border=\"1\" class=\"dataframe\">\n",
       "  <thead>\n",
       "    <tr style=\"text-align: right;\">\n",
       "      <th></th>\n",
       "      <th>time</th>\n",
       "      <th>show</th>\n",
       "      <th>demo_rating</th>\n",
       "      <th>viewers</th>\n",
       "      <th>tags</th>\n",
       "      <th>article_title</th>\n",
       "      <th>url</th>\n",
       "      <th>notes</th>\n",
       "      <th>network</th>\n",
       "      <th>table_id</th>\n",
       "    </tr>\n",
       "  </thead>\n",
       "  <tbody>\n",
       "    <tr>\n",
       "      <td>0</td>\n",
       "      <td>10:40 PM</td>\n",
       "      <td>NBA REGULAR SEASON: UTAH/LA LAKERS</td>\n",
       "      <td>0.7</td>\n",
       "      <td>1,783</td>\n",
       "      <td>['post-538457', 'post', 'type-post', 'status-p...</td>\n",
       "      <td>The strength of the NBA continued at the top o...</td>\n",
       "      <td>https://tvbythenumbers.zap2it.com/daily-rating...</td>\n",
       "      <td>['000s']</td>\n",
       "      <td>ESPN</td>\n",
       "      <td>12</td>\n",
       "    </tr>\n",
       "    <tr>\n",
       "      <td>1</td>\n",
       "      <td>8:12 PM</td>\n",
       "      <td>NBA REGULAR SEASON: DALLAS/NEW ORLEANS</td>\n",
       "      <td>0.4</td>\n",
       "      <td>1,103</td>\n",
       "      <td>['post-538457', 'post', 'type-post', 'status-p...</td>\n",
       "      <td>The strength of the NBA continued at the top o...</td>\n",
       "      <td>https://tvbythenumbers.zap2it.com/daily-rating...</td>\n",
       "      <td>['000s']</td>\n",
       "      <td>ESPN</td>\n",
       "      <td>13</td>\n",
       "    </tr>\n",
       "    <tr>\n",
       "      <td>2</td>\n",
       "      <td>9:00 PM</td>\n",
       "      <td>GOLD RUSH</td>\n",
       "      <td>0.4</td>\n",
       "      <td>2,076</td>\n",
       "      <td>['post-538457', 'post', 'type-post', 'status-p...</td>\n",
       "      <td>The strength of the NBA continued at the top o...</td>\n",
       "      <td>https://tvbythenumbers.zap2it.com/daily-rating...</td>\n",
       "      <td>['000s']</td>\n",
       "      <td>DISCOVERY</td>\n",
       "      <td>14</td>\n",
       "    </tr>\n",
       "    <tr>\n",
       "      <td>3</td>\n",
       "      <td>9:00 PM</td>\n",
       "      <td>LIVE PD</td>\n",
       "      <td>0.4</td>\n",
       "      <td>1,534</td>\n",
       "      <td>['post-538457', 'post', 'type-post', 'status-p...</td>\n",
       "      <td>The strength of the NBA continued at the top o...</td>\n",
       "      <td>https://tvbythenumbers.zap2it.com/daily-rating...</td>\n",
       "      <td>['000s']</td>\n",
       "      <td>A&amp;E</td>\n",
       "      <td>15</td>\n",
       "    </tr>\n",
       "    <tr>\n",
       "      <td>4</td>\n",
       "      <td>1:13 AM</td>\n",
       "      <td>SPORTSCENTER 1AM</td>\n",
       "      <td>0.4</td>\n",
       "      <td>845</td>\n",
       "      <td>['post-538457', 'post', 'type-post', 'status-p...</td>\n",
       "      <td>The strength of the NBA continued at the top o...</td>\n",
       "      <td>https://tvbythenumbers.zap2it.com/daily-rating...</td>\n",
       "      <td>['000s']</td>\n",
       "      <td>ESPN</td>\n",
       "      <td>16</td>\n",
       "    </tr>\n",
       "  </tbody>\n",
       "</table>\n",
       "</div>"
      ],
      "text/plain": [
       "       time                                    show demo_rating viewers  \\\n",
       "0  10:40 PM      NBA REGULAR SEASON: UTAH/LA LAKERS         0.7   1,783   \n",
       "1   8:12 PM  NBA REGULAR SEASON: DALLAS/NEW ORLEANS         0.4   1,103   \n",
       "2   9:00 PM                               GOLD RUSH         0.4   2,076   \n",
       "3   9:00 PM                                 LIVE PD         0.4   1,534   \n",
       "4   1:13 AM                        SPORTSCENTER 1AM         0.4     845   \n",
       "\n",
       "                                                tags  \\\n",
       "0  ['post-538457', 'post', 'type-post', 'status-p...   \n",
       "1  ['post-538457', 'post', 'type-post', 'status-p...   \n",
       "2  ['post-538457', 'post', 'type-post', 'status-p...   \n",
       "3  ['post-538457', 'post', 'type-post', 'status-p...   \n",
       "4  ['post-538457', 'post', 'type-post', 'status-p...   \n",
       "\n",
       "                                       article_title  \\\n",
       "0  The strength of the NBA continued at the top o...   \n",
       "1  The strength of the NBA continued at the top o...   \n",
       "2  The strength of the NBA continued at the top o...   \n",
       "3  The strength of the NBA continued at the top o...   \n",
       "4  The strength of the NBA continued at the top o...   \n",
       "\n",
       "                                                 url     notes    network  \\\n",
       "0  https://tvbythenumbers.zap2it.com/daily-rating...  ['000s']       ESPN   \n",
       "1  https://tvbythenumbers.zap2it.com/daily-rating...  ['000s']       ESPN   \n",
       "2  https://tvbythenumbers.zap2it.com/daily-rating...  ['000s']  DISCOVERY   \n",
       "3  https://tvbythenumbers.zap2it.com/daily-rating...  ['000s']        A&E   \n",
       "4  https://tvbythenumbers.zap2it.com/daily-rating...  ['000s']       ESPN   \n",
       "\n",
       "   table_id  \n",
       "0        12  \n",
       "1        13  \n",
       "2        14  \n",
       "3        15  \n",
       "4        16  "
      ]
     },
     "execution_count": 23,
     "metadata": {},
     "output_type": "execute_result"
    }
   ],
   "source": [
    "nielsen_data.head()"
   ]
  },
  {
   "cell_type": "markdown",
   "metadata": {},
   "source": [
    "### Perform the Merge"
   ]
  },
  {
   "cell_type": "code",
   "execution_count": 24,
   "metadata": {},
   "outputs": [],
   "source": [
    "temp_df = rt_data.merge(nielsen_urls, on = 'url', validate = '1:m')\n",
    "nielsen_df = temp_df.merge(nielsen_data, left_on = 'by_the_numbers_name', right_on = 'show', suffixes = ('_rt', '_tvbtn'), validate = '1:m')"
   ]
  },
  {
   "cell_type": "markdown",
   "metadata": {},
   "source": [
    "### Clean the Nielsen Data and colled the appropriate columns"
   ]
  },
  {
   "cell_type": "code",
   "execution_count": 25,
   "metadata": {},
   "outputs": [],
   "source": [
    "def clean_demo_rating(r):\n",
    "    try:\n",
    "        if '/' in r:\n",
    "            return float(r[:r.find('/')])\n",
    "        else:\n",
    "            return float(r)\n",
    "    except:\n",
    "        return np.nan"
   ]
  },
  {
   "cell_type": "code",
   "execution_count": 26,
   "metadata": {
    "scrolled": true
   },
   "outputs": [],
   "source": [
    "nielsen_df.demo_rating = nielsen_df.demo_rating.map(clean_demo_rating)"
   ]
  },
  {
   "cell_type": "code",
   "execution_count": 27,
   "metadata": {},
   "outputs": [
    {
     "data": {
      "text/plain": [
       "Index(['url_rt', 'title', 'critic_rating', 'audience_rating', 'network_rt',\n",
       "       'premiere_date', 'genre', 'executive_producers', 'by_the_numbers_name',\n",
       "       'rt_id', 'time', 'show', 'demo_rating', 'viewers', 'tags',\n",
       "       'article_title', 'url_tvbtn', 'notes', 'network_tvbtn', 'table_id'],\n",
       "      dtype='object')"
      ]
     },
     "execution_count": 27,
     "metadata": {},
     "output_type": "execute_result"
    }
   ],
   "source": [
    "nielsen_df.columns"
   ]
  },
  {
   "cell_type": "code",
   "execution_count": 28,
   "metadata": {},
   "outputs": [
    {
     "data": {
      "text/plain": [
       "'(Jan|January|Feb|February|Mar|March|Apr|April|May|Jun|June|Jul|July|Aug|August|Sep|Sept|September|Oct|October|Nov|November|Dec|December)[-/_]([0-3]?[0-9])[-/_](2?0?1[0-9])'"
      ]
     },
     "execution_count": 28,
     "metadata": {},
     "output_type": "execute_result"
    }
   ],
   "source": [
    "months = ['Jan', 'January', 'Feb', 'February', 'Mar', 'March', 'Apr', 'April', 'May', 'Jun', 'June', 'Jul', 'July',\n",
    "          'Aug', 'August', 'Sep', 'Sept', 'September', 'Oct', 'October', 'Nov', 'November', 'Dec', 'December']\n",
    "month_re  = '(' + '|'.join(months) + ')'\n",
    "date_re   = '([0-3]?[0-9])'\n",
    "year_re   = '(2?0?1[0-9])'\n",
    "total_re  = '[-/_]'.join([month_re, date_re, year_re])\n",
    "total_re"
   ]
  },
  {
   "cell_type": "code",
   "execution_count": 29,
   "metadata": {},
   "outputs": [],
   "source": [
    "def parse_date(url):\n",
    "    look = re.search(total_re, url, re.IGNORECASE)\n",
    "    if not look:\n",
    "        return None\n",
    "    \n",
    "    findings = list(look.groups())\n",
    "    if findings[2] == '215':\n",
    "        findings[2] = '2015'\n",
    "    out_date = dateparser.parse(' '.join(findings))\n",
    "    if not out_date:\n",
    "        print(f'Warning, failed to parse the date for {url}')\n",
    "        return None\n",
    "    \n",
    "    return out_date.date()"
   ]
  },
  {
   "cell_type": "code",
   "execution_count": 30,
   "metadata": {},
   "outputs": [],
   "source": [
    "# Warning: this is slow. Takes ~5 minutes.\n",
    "dates = nielsen_df.url_tvbtn.map(parse_date)"
   ]
  },
  {
   "cell_type": "code",
   "execution_count": 31,
   "metadata": {},
   "outputs": [],
   "source": [
    "nielsen_df['date'] = pd.to_datetime(dates)"
   ]
  },
  {
   "cell_type": "code",
   "execution_count": 32,
   "metadata": {},
   "outputs": [],
   "source": [
    "nielsen_df.rename({'network_tvbtn' : 'network'}, inplace = True, axis = 'columns')"
   ]
  },
  {
   "cell_type": "code",
   "execution_count": 33,
   "metadata": {},
   "outputs": [],
   "source": [
    "nielsen_df['critic_rating'] = nielsen_df.critic_rating.astype(float)\n",
    "nielsen_df['audience_rating'] = nielsen_df.audience_rating.astype(float)\n",
    "nielsen_df['demo_rating']     = nielsen_df.demo_rating.astype(float)"
   ]
  },
  {
   "cell_type": "code",
   "execution_count": 34,
   "metadata": {},
   "outputs": [],
   "source": [
    "# Some data is duplicated so try to keep the data with 'final' in the url\n",
    "#  Other duplicates appear to be: same tv show aired at different time slots and/or on different networks throughout the day\n",
    "\n",
    "def is_final(s):\n",
    "    m = re.search('final-ratings', s, re.IGNORECASE)\n",
    "    if m:\n",
    "        return True\n",
    "    else:\n",
    "        return False\n",
    "\n",
    "nielsen_df['duplicated'] = nielsen_df.duplicated(subset = ['rt_id', 'date', 'time'], keep = False)\n",
    "\n",
    "nielsen_df['is_final']   = nielsen_df.url_tvbtn.map(is_final)\n",
    "\n",
    "nielsen_df['has_date']   = nielsen_df.date.isna().map(lambda b : not b)\n",
    "\n",
    "nielsen_df['to_keep'] = ~(~nielsen_df.is_final & nielsen_df['duplicated'] & nielsen_df.has_date)\n",
    "\n",
    "nielsen_df = nielsen_df[nielsen_df['to_keep']]"
   ]
  },
  {
   "cell_type": "code",
   "execution_count": 35,
   "metadata": {},
   "outputs": [
    {
     "name": "stdout",
     "output_type": "stream",
     "text": [
      "<class 'pandas.core.frame.DataFrame'>\n",
      "Int64Index: 24795 entries, 0 to 25691\n",
      "Data columns (total 25 columns):\n",
      "url_rt                 24795 non-null object\n",
      "title                  24795 non-null object\n",
      "critic_rating          8071 non-null float64\n",
      "audience_rating        19693 non-null float64\n",
      "network_rt             24795 non-null object\n",
      "premiere_date          9648 non-null object\n",
      "genre                  22578 non-null object\n",
      "executive_producers    16735 non-null object\n",
      "by_the_numbers_name    24795 non-null object\n",
      "rt_id                  24795 non-null object\n",
      "time                   24795 non-null object\n",
      "show                   24795 non-null object\n",
      "demo_rating            24366 non-null float64\n",
      "viewers                24795 non-null object\n",
      "tags                   24795 non-null object\n",
      "article_title          24795 non-null object\n",
      "url_tvbtn              24795 non-null object\n",
      "notes                  24795 non-null object\n",
      "network                24791 non-null object\n",
      "table_id               24795 non-null int64\n",
      "date                   23152 non-null datetime64[ns]\n",
      "duplicated             24795 non-null bool\n",
      "is_final               24795 non-null bool\n",
      "has_date               24795 non-null bool\n",
      "to_keep                24795 non-null bool\n",
      "dtypes: bool(4), datetime64[ns](1), float64(3), int64(1), object(16)\n",
      "memory usage: 4.3+ MB\n"
     ]
    }
   ],
   "source": [
    "nielsen_df.info()"
   ]
  },
  {
   "cell_type": "code",
   "execution_count": 36,
   "metadata": {},
   "outputs": [],
   "source": [
    "# Some data was poorly formatted and parsed incorrectly. Drop these rows\n",
    "nielsen_df.drop(index = nielsen_df[nielsen_df.demo_rating > 10].index, inplace = True)"
   ]
  },
  {
   "cell_type": "code",
   "execution_count": 37,
   "metadata": {},
   "outputs": [],
   "source": [
    "nielsen_df_clean = nielsen_df[['rt_id', 'title', 'critic_rating', 'audience_rating', 'network', 'genre', 'executive_producers', 'demo_rating', 'date']]"
   ]
  },
  {
   "cell_type": "code",
   "execution_count": 38,
   "metadata": {},
   "outputs": [
    {
     "name": "stdout",
     "output_type": "stream",
     "text": [
      "<class 'pandas.core.frame.DataFrame'>\n",
      "Int64Index: 24792 entries, 0 to 25691\n",
      "Data columns (total 9 columns):\n",
      "rt_id                  24792 non-null object\n",
      "title                  24792 non-null object\n",
      "critic_rating          8071 non-null float64\n",
      "audience_rating        19691 non-null float64\n",
      "network                24788 non-null object\n",
      "genre                  22575 non-null object\n",
      "executive_producers    16734 non-null object\n",
      "demo_rating            24363 non-null float64\n",
      "date                   23149 non-null datetime64[ns]\n",
      "dtypes: datetime64[ns](1), float64(3), object(5)\n",
      "memory usage: 1.9+ MB\n"
     ]
    }
   ],
   "source": [
    "nielsen_df_clean.info()"
   ]
  },
  {
   "cell_type": "code",
   "execution_count": 39,
   "metadata": {},
   "outputs": [],
   "source": [
    "# Change if_exists to 'replace' to actually make changes\n",
    "#  leave as 'fail' to make this safe to re-run\n",
    "# nielsen_df_clean.to_sql('nielsen', db, if_exists = 'fail', index = False)\n",
    "nielsen_df_clean.to_sql('nielsen', db, if_exists = 'replace', index = False)"
   ]
  }
 ],
 "metadata": {
  "kernelspec": {
   "display_name": "Python 3",
   "language": "python",
   "name": "python3"
  },
  "language_info": {
   "codemirror_mode": {
    "name": "ipython",
    "version": 3
   },
   "file_extension": ".py",
   "mimetype": "text/x-python",
   "name": "python",
   "nbconvert_exporter": "python",
   "pygments_lexer": "ipython3",
   "version": "3.6.6"
  }
 },
 "nbformat": 4,
 "nbformat_minor": 2
}
