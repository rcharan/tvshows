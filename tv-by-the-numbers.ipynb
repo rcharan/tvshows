{
 "cells": [
  {
   "cell_type": "markdown",
   "metadata": {},
   "source": [
    "Scrape [TV by the numbers](https://tvbythenumbers.zap2it.com/category/daily-ratings/) to get daily ratings for tv shows"
   ]
  },
  {
   "cell_type": "code",
   "execution_count": 1,
   "metadata": {},
   "outputs": [],
   "source": [
    "%load_ext autoreload\n",
    "%autoreload 2"
   ]
  },
  {
   "cell_type": "code",
   "execution_count": null,
   "metadata": {},
   "outputs": [],
   "source": [
    "! conda list '(beautifulsoup4|mysql-connector|pandas|python$)'"
   ]
  },
  {
   "cell_type": "markdown",
   "metadata": {},
   "source": [
    "```python\n",
    "beautifulsoup4            4.8.0                    py37_0    conda-forge\n",
    "ipython                   7.8.0            py37h5ca1d4c_0    conda-forge\n",
    "msgpack-python            0.6.2            py37h770b8ee_0    conda-forge\n",
    "mysql-connector-c         6.1.11            h42c63d9_1003    conda-forge\n",
    "mysql-connector-python    8.0.18           py37he91358f_0    conda-forge\n",
    "pandas                    0.25.1           py37h86efe34_0    conda-forge\n",
    "python                    3.7.3                h359304d_0  \n",
    "```"
   ]
  },
  {
   "cell_type": "code",
   "execution_count": 1,
   "metadata": {},
   "outputs": [],
   "source": [
    "from tvbythenumbers import *\n",
    "import tvbythenumbers as debug #Access to hidden modules for debugging convenience"
   ]
  },
  {
   "cell_type": "markdown",
   "metadata": {},
   "source": [
    "Definitions:\n",
    " - A 'page' contains a number of links (usually 12) to 'articles'\n",
    " - An 'article' contains ratings\n",
    " \n",
    "Notes:\n",
    " - There are 351 pages, with numbering starting at 1"
   ]
  },
  {
   "cell_type": "code",
   "execution_count": 2,
   "metadata": {},
   "outputs": [],
   "source": [
    "data = query('''SELECT * FROM tv_by_the_numbers_articles''')"
   ]
  },
  {
   "cell_type": "code",
   "execution_count": 3,
   "metadata": {},
   "outputs": [
    {
     "name": "stdout",
     "output_type": "stream",
     "text": [
      "<class 'pandas.core.frame.DataFrame'>\n",
      "RangeIndex: 108341 entries, 0 to 108340\n",
      "Data columns (total 10 columns):\n",
      "time             108341 non-null object\n",
      "show             108341 non-null object\n",
      "demo_rating      107238 non-null object\n",
      "viewers          108341 non-null object\n",
      "tags             108341 non-null object\n",
      "article_title    108341 non-null object\n",
      "url              108341 non-null object\n",
      "notes            108341 non-null object\n",
      "network          71738 non-null object\n",
      "table_id         108341 non-null int64\n",
      "dtypes: int64(1), object(9)\n",
      "memory usage: 8.3+ MB\n"
     ]
    }
   ],
   "source": [
    "data.info()"
   ]
  },
  {
   "cell_type": "code",
   "execution_count": null,
   "metadata": {},
   "outputs": [],
   "source": [
    "data.to_sql('articles_backup_2', db, 'tvshows', index = False, if_exists = 'replace')"
   ]
  },
  {
   "cell_type": "code",
   "execution_count": 51,
   "metadata": {},
   "outputs": [
    {
     "data": {
      "text/plain": [
       "False"
      ]
     },
     "execution_count": 51,
     "metadata": {},
     "output_type": "execute_result"
    }
   ],
   "source": []
  },
  {
   "cell_type": "markdown",
   "metadata": {},
   "source": [
    "## Part 1 – Scrape the landing pages to find links to articles"
   ]
  },
  {
   "cell_type": "code",
   "execution_count": null,
   "metadata": {},
   "outputs": [],
   "source": [
    "# Searchs for any pages not currently in the database\n",
    "#  and puts them in the database. (~idempotent)\n",
    "# \n",
    "# Safe to re-run\n",
    "# Verbose\n",
    "# On failure:\n",
    "#  - returns latest web call data fetched or processed in a dictionary (for debugging purposes)\n",
    "#  - may raise an error if there is no data to protect\n",
    "error_data = update_pages_database()"
   ]
  },
  {
   "cell_type": "code",
   "execution_count": null,
   "metadata": {
    "scrolled": false
   },
   "outputs": [],
   "source": [
    "error_data = update_articles_database(sleep_time = 0.05, on_fail = 'continue')"
   ]
  },
  {
   "cell_type": "code",
   "execution_count": 5,
   "metadata": {},
   "outputs": [
    {
     "name": "stdout",
     "output_type": "stream",
     "text": [
      "4176 pages already scraped detected\n",
      "30 pages needing scraping detected\n"
     ]
    }
   ],
   "source": [
    "# Some pages (30) were not fetched\n",
    "#  On examination: some are due to parsing errors\n",
    "#                  many are articles not containing data at all\n",
    "to_do = get_missing_articles()"
   ]
  },
  {
   "cell_type": "code",
   "execution_count": 2,
   "metadata": {},
   "outputs": [],
   "source": [
    "add_primary_key('tv_by_the_numbers_articles')"
   ]
  },
  {
   "cell_type": "code",
   "execution_count": 2,
   "metadata": {},
   "outputs": [],
   "source": [
    "def process_broadccast_networks():\n",
    "    to_alter = query(f'''\n",
    "        SELECT\n",
    "            *\n",
    "        FROM\n",
    "            tv_by_the_numbers_articles\n",
    "        WHERE\n",
    "            network IS NULL\n",
    "    ''')\n",
    "\n",
    "    print(f'{len(to_alter)} bad records found')\n",
    "    broadcast_networks = ['CBS', 'FOX', 'ABC', 'The CW', 'NBC', 'CW', 'NCBS']\n",
    "    pattern = '(.*)' + '\\((' + '|'.join(broadcast_networks) + ')\\).*'\n",
    "    def parse_show(show):\n",
    "        maybe_match = re.match(pattern, show)\n",
    "        if not maybe_match:\n",
    "            out_dict = {'show' : show, 'network' : None}\n",
    "        else:\n",
    "            show = maybe_match.group(1)\n",
    "            net  = maybe_match.group(2)\n",
    "            if net == 'CW':\n",
    "                net = 'The CW'\n",
    "            out_dict = {'show' : show, 'network' : net}\n",
    "            \n",
    "        return pd.Series(out_dict)\n",
    "\n",
    "    fixed = to_alter.show.apply(parse_show)\n",
    "    \n",
    "    to_alter['show'] = fixed.show\n",
    "    to_alter['network'] = fixed.network\n",
    "    \n",
    "    to_alter.dropna(subset = ['network'], inplace = True)\n",
    "    \n",
    "    ids_to_drop = to_alter.table_id.tolist()\n",
    "    fixed = to_alter.drop('table_id', axis = 'columns')\n",
    "    \n",
    "    \n",
    "    \n",
    "    fixed.to_sql('tv_by_the_numbers_articles', db, schema = 'tvshows', if_exists = 'append', index = False)\n",
    "    \n",
    "    return ids_to_drop\n",
    "    try:\n",
    "        query_text = [\n",
    "         'DELETE FROM',\n",
    "         'tv_by_the_numbers_articles',\n",
    "         'WHERE',\n",
    "         'table_id',\n",
    "         'IN',\n",
    "         str(tuple(ids_to_drop))\n",
    "        ]\n",
    "        return '\\n'.join(query_text)\n",
    "    except:\n",
    "        return ids_to_drop\n"
   ]
  },
  {
   "cell_type": "code",
   "execution_count": null,
   "metadata": {},
   "outputs": [],
   "source": [
    "a = process_broadccast_networksoadccast_networksbroadccast_networksess_broadcast_networks()"
   ]
  },
  {
   "cell_type": "code",
   "execution_count": null,
   "metadata": {},
   "outputs": [],
   "source": [
    "b = copy.copy(a)"
   ]
  },
  {
   "cell_type": "code",
   "execution_count": 17,
   "metadata": {},
   "outputs": [],
   "source": [
    "# This is miserably, miserably slow\n",
    "fail_count = 0\n",
    "while len(a) > 0:\n",
    "    try:\n",
    "        to_delete = a[:100]\n",
    "        db.execute(f'DELETE FROM tv_by_the_numbers_articles WHERE table_id IN {tuple(to_delete)}')\n",
    "        for table_id in to_delete:\n",
    "            a.remove(table_id)\n",
    "    except:\n",
    "        print(f'failure on id {a[0]}')\n",
    "        fail_count = fail_count + 1\n",
    "        if fail_count > 10:\n",
    "            print('aborting')\n",
    "            break\n",
    "        else:\n",
    "            continue"
   ]
  },
  {
   "cell_type": "code",
   "execution_count": 15,
   "metadata": {},
   "outputs": [
    {
     "data": {
      "text/plain": [
       "31340"
      ]
     },
     "execution_count": 15,
     "metadata": {},
     "output_type": "execute_result"
    }
   ],
   "source": [
    "len(a)"
   ]
  },
  {
   "cell_type": "code",
   "execution_count": 16,
   "metadata": {},
   "outputs": [
    {
     "data": {
      "text/plain": [
       "36579"
      ]
     },
     "execution_count": 16,
     "metadata": {},
     "output_type": "execute_result"
    }
   ],
   "source": [
    "len(b)"
   ]
  },
  {
   "cell_type": "code",
   "execution_count": null,
   "metadata": {},
   "outputs": [],
   "source": []
  }
 ],
 "metadata": {
  "kernelspec": {
   "display_name": "Python [conda env:root]",
   "language": "python",
   "name": "conda-root-py"
  },
  "language_info": {
   "codemirror_mode": {
    "name": "ipython",
    "version": 3
   },
   "file_extension": ".py",
   "mimetype": "text/x-python",
   "name": "python",
   "nbconvert_exporter": "python",
   "pygments_lexer": "ipython3",
   "version": "3.7.3"
  }
 },
 "nbformat": 4,
 "nbformat_minor": 2
}
